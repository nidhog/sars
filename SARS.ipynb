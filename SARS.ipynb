{
 "cells": [
  {
   "cell_type": "code",
   "execution_count": 6,
   "id": "6c3e6a6b",
   "metadata": {},
   "outputs": [],
   "source": []
  },
  {
   "cell_type": "markdown",
   "id": "3e07762a",
   "metadata": {},
   "source": [
    "# Prep\n",
    "Import used libs and modules"
   ]
  },
  {
   "cell_type": "code",
   "execution_count": 1,
   "id": "36ecde1e",
   "metadata": {},
   "outputs": [
    {
     "data": {
      "application/vnd.jupyter.widget-view+json": {
       "model_id": "0922e6d92ffb477cabe22f6895dd1113",
       "version_major": 2,
       "version_minor": 0
      },
      "text/plain": []
     },
     "metadata": {},
     "output_type": "display_data"
    }
   ],
   "source": [
    "import Bio\n",
    "import urllib\n",
    "import pandas as pd\n",
    "import nglview as nv\n",
    "\n",
    "from matplotlib import pyplot as plt\n",
    "\n",
    "from Bio.Seq import Seq\n",
    "from Bio.Blast import NCBIWWW\n",
    "# from Bio.Alphabet import IUPAC\n",
    "from collections import Counter\n",
    "from Bio.Data import CodonTable\n",
    "from Bio import SeqIO, SearchIO\n",
    "from Bio.PDB import PDBParser,MMCIFParser\n",
    "from Bio.SeqUtils import GC,molecular_weight\n",
    "# from Bio.Alphabet import generic_dna,generic_rna,generic_protein"
   ]
  },
  {
   "cell_type": "markdown",
   "id": "f6dba3ab",
   "metadata": {},
   "source": [
    "# Understanding FASTA\n",
    "*FASTA format* is a text format often used to represent nucleotide or peptide sequences. In FASTA format base pairs or amino acids are represented using single-letter codes. \n",
    "The nucleic acid codes are:\n",
    "\n",
    "        A --> adenosine           M --> A C (amino)\n",
    "        C --> cytidine            S --> G C (strong)\n",
    "        G --> guanine             W --> A T (weak)\n",
    "        T --> thymidine           B --> G T C\n",
    "        U --> uridine             D --> G A T\n",
    "        R --> G A (purine)        H --> A C T\n",
    "        Y --> T C (pyrimidine)    V --> G C A\n",
    "        K --> G T (keto)          N --> A G C T (any)\n",
    "                                  -  gap of indeterminate length\n",
    "\n",
    "The accepted amino acid codes are:\n",
    "\n",
    "        A ALA alanine                         P PRO proline\n",
    "        B ASX aspartate or asparagine         Q GLN glutamine\n",
    "        C CYS cystine                         R ARG arginine\n",
    "        D ASP aspartate                       S SER serine\n",
    "        E GLU glutamate                       T THR threonine\n",
    "        F PHE phenylalanine                   U     selenocysteine\n",
    "        G GLY glycine                         V VAL valine\n",
    "        H HIS histidine                       W TRP tryptophan\n",
    "        I ILE isoleucine                      Y TYR tyrosine\n",
    "        K LYS lysine                          Z GLX glutamate or glutamine\n",
    "        L LEU leucine                         X     any\n",
    "        M MET methionine                      *     translation stop\n",
    "        N ASN asparagine                      -     gap of indeterminate length\n",
    "\n"
   ]
  },
  {
   "cell_type": "markdown",
   "id": "2b1fdfe8",
   "metadata": {},
   "source": [
    "## Download the SARS-cov2 genome sequence"
   ]
  },
  {
   "cell_type": "markdown",
   "id": "519ff08d",
   "metadata": {},
   "source": [
    "**Note:**You can skip over this part and just use the `sars.fasta` file provided in this folder.\n",
    "\n",
    "If you want to download this file by yourself, you can use EDirect a tool provided by NCBI that provides access to its databases from the terminal. You can read more about [EDirect and how to install it here](https://www.ncbi.nlm.nih.gov/books/NBK179288/), but the installation is as simple as follows:\n",
    "\n",
    "**1 - First install EDirect**\n",
    "```\n",
    "sh -c \"$(curl -fsSL ftp://ftp.ncbi.nlm.nih.gov/entrez/entrezdirect/install-edirect.sh)\"\n",
    "```\n",
    "**2 - Add to your path**\n",
    "```\n",
    "export PATH=${PATH}:${HOME}/edirect\n",
    "```\n",
    "\n",
    "After you have installed EDirect you can download the SARS-cov2 sequence from NCBI \n",
    "[The sequence can be find here under the id: MN908947](https://www.ncbi.nlm.nih.gov/nuccore/MN908947.3).\n",
    "So to download that using EDirect you can use the following command:\n",
    "```\n",
    "esearch -db nucleotide -query \"MN908947\" | efetch -format fasta > sars.fasta\n",
    "```\n",
    "The `sars.fasta` is just the name we decided to give to the fasta file stored locally.\n"
   ]
  },
  {
   "cell_type": "markdown",
   "id": "64fc4c96",
   "metadata": {},
   "source": [
    "## Having a look at the sequence"
   ]
  },
  {
   "cell_type": "markdown",
   "id": "0420b9b4",
   "metadata": {},
   "source": [
    "As a quick reminder:\n",
    "* DNA (Deoxy-Ribonucleic Acid) constitutes of 4 Bases A T G C\n",
    "* RNA (Ribonucleic Acid) is composed of U instead of T"
   ]
  },
  {
   "cell_type": "code",
   "execution_count": 3,
   "id": "9f3ef1cb",
   "metadata": {},
   "outputs": [],
   "source": [
    "# Read the sequence using SeqIO\n",
    "fread = SeqIO.read(\"sars.fasta\", \"fasta\")"
   ]
  },
  {
   "cell_type": "code",
   "execution_count": 4,
   "id": "362f4d8e",
   "metadata": {},
   "outputs": [
    {
     "name": "stdout",
     "output_type": "stream",
     "text": [
      "ID: MN908947.3\n",
      "Name: MN908947.3\n",
      "Description: MN908947.3 Severe acute respiratory syndrome coronavirus 2 isolate Wuhan-Hu-1, complete genome\n",
      "Number of features: 0\n",
      "Seq('ATTAAAGGTTTATACCTTCCCAGGTAACAAACCAACCAACTTTCGATCTCTTGT...AAA')\n"
     ]
    }
   ],
   "source": [
    "# Let's print the sequence:\n",
    "print(fread)"
   ]
  },
  {
   "cell_type": "code",
   "execution_count": 5,
   "id": "196ac2f6",
   "metadata": {},
   "outputs": [
    {
     "name": "stdout",
     "output_type": "stream",
     "text": [
      "MN908947.3\n",
      "MN908947.3 Severe acute respiratory syndrome coronavirus 2 isolate Wuhan-Hu-1, complete genome\n"
     ]
    }
   ],
   "source": [
    "# We can access some of these variables shown above, read more in the docs\n",
    "print(fread.id)\n",
    "print(fread.description)"
   ]
  },
  {
   "cell_type": "code",
   "execution_count": 6,
   "id": "d277ec32",
   "metadata": {},
   "outputs": [],
   "source": [
    "# Get the sequence in a variable\n",
    "seq = fread.seq"
   ]
  },
  {
   "cell_type": "code",
   "execution_count": 7,
   "id": "63d814e2",
   "metadata": {},
   "outputs": [
    {
     "data": {
      "text/plain": [
       "Seq('ATTAAAGGTTTATACCTTCCCAGGTAACAAACCAACCAACTTTCGATCTCTTGT...AAA')"
      ]
     },
     "execution_count": 7,
     "metadata": {},
     "output_type": "execute_result"
    }
   ],
   "source": [
    "seq"
   ]
  },
  {
   "cell_type": "code",
   "execution_count": 8,
   "id": "fe41227f",
   "metadata": {},
   "outputs": [
    {
     "name": "stdout",
     "output_type": "stream",
     "text": [
      "Molecular weight: 9241219.214400413\n"
     ]
    }
   ],
   "source": [
    "# we can even check the molecular weight of the sequence \n",
    "mw = molecular_weight(seq)\n",
    "print(f'Molecular weight: {mw}')"
   ]
  },
  {
   "cell_type": "markdown",
   "id": "e2bb57a2",
   "metadata": {},
   "source": [
    "## 3. Sequence manipulation using Biopython"
   ]
  },
  {
   "cell_type": "markdown",
   "id": "9772668f",
   "metadata": {},
   "source": [
    "Manipulating a sequence, some operations we can do"
   ]
  },
  {
   "cell_type": "code",
   "execution_count": 9,
   "id": "34fc8a85",
   "metadata": {},
   "outputs": [
    {
     "data": {
      "text/plain": [
       "Seq('ATTA')"
      ]
     },
     "execution_count": 9,
     "metadata": {},
     "output_type": "execute_result"
    }
   ],
   "source": [
    "# Indexing and choosing a slice\n",
    "seq[0:4]"
   ]
  },
  {
   "cell_type": "code",
   "execution_count": 10,
   "id": "ecf9266a",
   "metadata": {},
   "outputs": [
    {
     "data": {
      "text/plain": [
       "43"
      ]
     },
     "execution_count": 10,
     "metadata": {},
     "output_type": "execute_result"
    }
   ],
   "source": [
    "# Searching for a codon\n",
    "seq.find('CG')"
   ]
  },
  {
   "cell_type": "code",
   "execution_count": 11,
   "id": "36527d87",
   "metadata": {},
   "outputs": [
    {
     "data": {
      "text/plain": [
       "Seq('ATTAGTT')"
      ]
     },
     "execution_count": 11,
     "metadata": {},
     "output_type": "execute_result"
    }
   ],
   "source": [
    "# Concatenating sequences/slices by using the + operator\n",
    "seq[0:4] + seq[7:10]"
   ]
  },
  {
   "cell_type": "code",
   "execution_count": 12,
   "id": "7dc1d7a3",
   "metadata": {},
   "outputs": [
    {
     "name": "stdout",
     "output_type": "stream",
     "text": [
      "GC count: 439\n",
      "37.97277865097148\n"
     ]
    },
    {
     "data": {
      "text/plain": [
       "True"
      ]
     },
     "execution_count": 12,
     "metadata": {},
     "output_type": "execute_result"
    }
   ],
   "source": [
    "# Exploring the GC content\n",
    "seq[44:].find('CG')\n",
    "\n",
    "print(f\"GC count: {seq.count('CG')}\")\n",
    "\n",
    "# Using the `GC` method is equivalent to counting the percentage of G and C in the whole sequence\n",
    "print(GC(seq))\n",
    "GC(seq) == 100*(seq.count('G') + seq.count('C'))/len(seq)"
   ]
  },
  {
   "cell_type": "code",
   "execution_count": 13,
   "id": "2e10e087",
   "metadata": {},
   "outputs": [
    {
     "data": {
      "text/plain": [
       "Seq('TAATTTCCAAATATGGAAGGGTCCATTGTTTGGTTGGTTGAAAGCTAGAGAACA...TTT')"
      ]
     },
     "execution_count": 13,
     "metadata": {},
     "output_type": "execute_result"
    }
   ],
   "source": [
    "# Finding complementary DNA\n",
    "seq.complement()"
   ]
  },
  {
   "cell_type": "code",
   "execution_count": 14,
   "id": "4a14d21a",
   "metadata": {},
   "outputs": [
    {
     "data": {
      "text/plain": [
       "True"
      ]
     },
     "execution_count": 14,
     "metadata": {},
     "output_type": "execute_result"
    }
   ],
   "source": [
    "GC(seq.complement()) == GC(seq)"
   ]
  },
  {
   "cell_type": "code",
   "execution_count": 15,
   "id": "fa5e28af",
   "metadata": {},
   "outputs": [
    {
     "name": "stdout",
     "output_type": "stream",
     "text": [
      "TAATTTCCAA\n",
      "AACCTTTAAT\n"
     ]
    }
   ],
   "source": [
    "# we can also use reverse complement to reverse it\n",
    "# as you can see here the last 10 characters are \n",
    "# the reverse of the first 10 characters in the complement\n",
    "print(seq.complement()[:10])\n",
    "print((seq.reverse_complement())[-10:])"
   ]
  },
  {
   "cell_type": "markdown",
   "id": "788806f4",
   "metadata": {},
   "source": [
    "## 4. Transcription & Translation Studies\n",
    "\n",
    "<div class=\"alert alert-block alert-warning\" style=\"font-size:16px\">\n",
    "DNA > RNA = Transcription\n",
    "</div>\n",
    "<div class=\"alert alert-block alert-warning\" style=\"font-size:16px\">\n",
    "mRNA > amino acid (protein) = Translation\n",
    "</div>"
   ]
  },
  {
   "cell_type": "code",
   "execution_count": 16,
   "id": "6642958a",
   "metadata": {},
   "outputs": [],
   "source": [
    "mRNA = seq.transcribe()"
   ]
  },
  {
   "cell_type": "code",
   "execution_count": 17,
   "id": "6e6db29b",
   "metadata": {},
   "outputs": [
    {
     "name": "stdout",
     "output_type": "stream",
     "text": [
      "Table 1 Standard, SGC0\n",
      "\n",
      "  |  T      |  C      |  A      |  G      |\n",
      "--+---------+---------+---------+---------+--\n",
      "T | TTT F   | TCT S   | TAT Y   | TGT C   | T\n",
      "T | TTC F   | TCC S   | TAC Y   | TGC C   | C\n",
      "T | TTA L   | TCA S   | TAA Stop| TGA Stop| A\n",
      "T | TTG L(s)| TCG S   | TAG Stop| TGG W   | G\n",
      "--+---------+---------+---------+---------+--\n",
      "C | CTT L   | CCT P   | CAT H   | CGT R   | T\n",
      "C | CTC L   | CCC P   | CAC H   | CGC R   | C\n",
      "C | CTA L   | CCA P   | CAA Q   | CGA R   | A\n",
      "C | CTG L(s)| CCG P   | CAG Q   | CGG R   | G\n",
      "--+---------+---------+---------+---------+--\n",
      "A | ATT I   | ACT T   | AAT N   | AGT S   | T\n",
      "A | ATC I   | ACC T   | AAC N   | AGC S   | C\n",
      "A | ATA I   | ACA T   | AAA K   | AGA R   | A\n",
      "A | ATG M(s)| ACG T   | AAG K   | AGG R   | G\n",
      "--+---------+---------+---------+---------+--\n",
      "G | GTT V   | GCT A   | GAT D   | GGT G   | T\n",
      "G | GTC V   | GCC A   | GAC D   | GGC G   | C\n",
      "G | GTA V   | GCA A   | GAA E   | GGA G   | A\n",
      "G | GTG V   | GCG A   | GAG E   | GGG G   | G\n",
      "--+---------+---------+---------+---------+--\n"
     ]
    }
   ],
   "source": [
    "print(CodonTable.unambiguous_dna_by_id[1])"
   ]
  },
  {
   "cell_type": "code",
   "execution_count": 18,
   "id": "95f20a84",
   "metadata": {},
   "outputs": [
    {
     "name": "stderr",
     "output_type": "stream",
     "text": [
      "/Users/ismail/RestInGit/sars-cov-2/venv/lib/python3.9/site-packages/Bio/Seq.py:2979: BiopythonWarning: Partial codon, len(sequence) not a multiple of three. Explicitly trim the sequence or add trailing N before translation. This may become an error in future.\n",
      "  warnings.warn(\n"
     ]
    }
   ],
   "source": [
    "proteins = seq.translate()"
   ]
  },
  {
   "cell_type": "code",
   "execution_count": 19,
   "id": "ec8726f6",
   "metadata": {},
   "outputs": [
    {
     "data": {
      "text/plain": [
       "Seq('IKGLYLPR*QTNQLSISCRSVL*TNFKICVAVTRLHA*CTHAV*LITNYCR*QD...KKK')"
      ]
     },
     "execution_count": 19,
     "metadata": {},
     "output_type": "execute_result"
    }
   ],
   "source": [
    "mRNA.translate()"
   ]
  },
  {
   "cell_type": "code",
   "execution_count": 20,
   "id": "91b5a82f",
   "metadata": {},
   "outputs": [
    {
     "data": {
      "text/plain": [
       "Seq('IKGLYLPR*QTNQLSISCRSVL*TNFKICVAVTRLHA*CTHAV*LITNYCR*QD...KKK')"
      ]
     },
     "execution_count": 20,
     "metadata": {},
     "output_type": "execute_result"
    }
   ],
   "source": [
    "proteins"
   ]
  },
  {
   "cell_type": "code",
   "execution_count": 21,
   "id": "35757913",
   "metadata": {},
   "outputs": [
    {
     "data": {
      "text/plain": [
       "Seq('IKGLYLPR*QTNQLSISCRSVL*TNFKICVAVTRLHA*CTHAV*LITNYCR*QD...KKK')"
      ]
     },
     "execution_count": 21,
     "metadata": {},
     "output_type": "execute_result"
    }
   ],
   "source": [
    "proteins.back_transcribe()"
   ]
  },
  {
   "cell_type": "code",
   "execution_count": 22,
   "id": "3d8335fd",
   "metadata": {},
   "outputs": [
    {
     "data": {
      "text/plain": [
       "[('L', 886),\n",
       " ('S', 810),\n",
       " ('*', 774),\n",
       " ('T', 679),\n",
       " ('C', 635),\n",
       " ('F', 593),\n",
       " ('R', 558),\n",
       " ('V', 548),\n",
       " ('Y', 505),\n",
       " ('N', 472),\n",
       " ('I', 436),\n",
       " ('K', 413),\n",
       " ('G', 394),\n",
       " ('A', 375),\n",
       " ('H', 332),\n",
       " ('Q', 325),\n",
       " ('P', 292),\n",
       " ('D', 290),\n",
       " ('E', 270),\n",
       " ('W', 263),\n",
       " ('M', 117)]"
      ]
     },
     "execution_count": 22,
     "metadata": {},
     "output_type": "execute_result"
    }
   ],
   "source": [
    "Counter(proteins).most_common()"
   ]
  },
  {
   "cell_type": "code",
   "execution_count": 23,
   "id": "c1ffced3",
   "metadata": {},
   "outputs": [
    {
     "data": {
      "text/plain": [
       "<BarContainer object of 21 artists>"
      ]
     },
     "execution_count": 23,
     "metadata": {},
     "output_type": "execute_result"
    },
    {
     "data": {
      "image/png": "[encoded data removed]",
      "text/plain": [
       "<Figure size 432x288 with 1 Axes>"
      ]
     },
     "metadata": {
      "needs_background": "light"
     },
     "output_type": "display_data"
    }
   ],
   "source": [
    "plt.bar(Counter(proteins).keys(), Counter(proteins).values())"
   ]
  },
  {
   "cell_type": "code",
   "execution_count": 24,
   "id": "ef07e6c6",
   "metadata": {},
   "outputs": [],
   "source": [
    "plist = proteins.split('*')\n",
    "large_proteins = [x for x in plist if len(x)>10]"
   ]
  },
  {
   "cell_type": "code",
   "execution_count": 25,
   "id": "f0e8295d",
   "metadata": {},
   "outputs": [
    {
     "data": {
      "text/plain": [
       "[Seq('QTNQLSISCRSVL'),\n",
       " Seq('TNFKICVAVTRLHA'),\n",
       " Seq('QDTSNSSIFCRLLTVSSVLQPIISTSRFRPGVTER'),\n",
       " Seq('DGEPCPWFQRENTRPTQFACFTGSRRARTWLWRLRGGGLIRGTSTS'),\n",
       " Seq('TALCVHQTFGCSNCTSWSCYG'),\n",
       " Seq('AGSRTRRHSVRS'),\n",
       " Seq('DTWCPCPSCGRNTSGLPQGSSS'),\n",
       " Seq('SFMHFVRTTGLY'),\n",
       " Seq('HLQWGMSKFCISLKFHNQDYSTKG'),\n",
       " Seq('NSICLSSCVTK'),\n",
       " Seq('MQPNVPFNSHEV'),\n",
       " Seq('RRCHYLWLLTPKCCC'),\n",
       " Seq('NLLSSMSQFRSRT'),\n",
       " Seq('GWSHYCLWRLCVLLCWLP'),\n",
       " Seq('PYRCCWRRFRRS'),\n",
       " Seq('NTPKRESQHQYCW'),\n",
       " Seq('RDRHYFGIFFCFHKCFCGNCERFGL'),\n",
       " Seq('TEINTESSLCICIRGCSCCTINFLPHS'),\n",
       " Seq('NCSKFCACFTEGRYNNTRWNFTVFTETH'),\n",
       " Seq('QSSCNGLHYRWCCSVDFAVAN'),\n",
       " Seq('NCRWTNCHLCKGN'),\n",
       " Seq('NICHALKGIVQKVC'),\n",
       " Seq('IQRRNWPTHASKSPKRNYLLRGRNTSHRSVNRGSCLENW'),\n",
       " Seq('RAYVARNQRHRKVLCPCT'),\n",
       " Seq('YDGNKQYLHTQRRCTNKGYFW'),\n",
       " Seq('HCDRSARLQECEYHF'),\n",
       " Seq('VRLCCGRCCHKNFATSI'),\n",
       " Seq('IGFTYVLFFLPSR'),\n",
       " Seq('TFGIWCHFCCSST'),\n",
       " Seq('GQSDNYYSNNC'),\n",
       " Seq('GSTSIRDGTYTSCSDY'),\n",
       " Seq('SARSSTCTIIISWYFWC'),\n",
       " Seq('PYTFFKSLCRYCSHKCLLSCL'),\n",
       " Seq('QTCFKLFGNEE'),\n",
       " Seq('WQSSSRFCHSC'),\n",
       " Seq('HHFLKERCSIYSG'),\n",
       " Seq('CCSRGCFNCCGYTY'),\n",
       " Seq('NASESFEKSANRQLYNHLPGSGFKWLHCRGGKDSA'),\n",
       " Seq('KCLLHSTIYYL'),\n",
       " Seq('EARNSWNCFLEFARNACTCRRNTQINACLCGN'),\n",
       " Seq('NSCYNATWLCNTWLKFGRSCSVYEISQSASYSFCFFT'),\n",
       " Seq('RLVLFWTIYTTRYRIS'),\n",
       " Seq('DTSFFERSEDY'),\n",
       " Seq('PPHASCGHVNDIWTTVWSNLFGWS'),\n",
       " Seq('QLLSCHCIVNTPTNRVEV'),\n",
       " Seq('STCSTRCLLQSKGW'),\n",
       " Seq('RNNELLVSTCQFRFLQKSLERGV'),\n",
       " Seq('GCRSCYVHGHTFL'),\n",
       " Seq('TSYKISSTTGVTFCYDVSTTCSV'),\n",
       " Seq('RNFVLHRRCFTYKVLRIQRSYYGCFLQRKQLHNNHKTSYL'),\n",
       " Seq('ERQFLFHRATN'),\n",
       " Seq('SCTKPTISKRKLR'),\n",
       " Seq('TKYLVYTLSLEHKTS'),\n",
       " Seq('CTEVRGRAGNG'),\n",
       " Seq('RSSGKSYHTERRS'),\n",
       " Seq('CENYRSCRRHYT'),\n",
       " Seq('FKNYRRGWPHRSNGCLCRQF'),\n",
       " Seq('SIRFENPCYSWFSCC'),\n",
       " Seq('HSYTVFKPCLY'),\n",
       " Seq('LYALFLYFIATIVYFY'),\n",
       " Seq('SIYADYYSKEYC'),\n",
       " Seq('TDKYYNLVFTIKCLPRFFNLLNRCFRCFNV'),\n",
       " Seq('FRHAFLLYWLQRRLFELY'),\n",
       " Seq('CHYCNLLYWFYTL'),\n",
       " Seq('WFRFFRHLSFFRNYTNYHFIF'),\n",
       " Seq('MGFNCFWLSCRVVFGIYSFH'),\n",
       " Seq('VFLCTWIGCNHAIVFQLFCSTFY'),\n",
       " Seq('SCTNGPDFSYG'),\n",
       " Seq('NVHLLCIILLCMEKLCACCRRL'),\n",
       " Seq('RLLQTTQLELC'),\n",
       " Seq('CYSEEWFHPSLL'),\n",
       " Seq('RIICKISVCLLQSAYVSTYTVTRSGISV'),\n",
       " Seq('RTNGKTQNTSCNCRS'),\n",
       " Seq('TCKECVLRQCLIYFYFSSSARVC'),\n",
       " Seq('CAGSKKSQHCFDMER'),\n",
       " Seq('SYTCVPFCCCYFLFNNTCSCHV'),\n",
       " Seq('QSLPIDCCSHNKRSGFCRAWFAWHDITHN'),\n",
       " Seq('HLLHTIKTYRVH'),\n",
       " Seq('HTLCAHGWLYYSIS'),\n",
       " Seq('LLQIFTRSFLWCRCCKFTY'),\n",
       " Seq('YVYTTNSTYWCFGHISIYSSWWYCSYRSNMPCLLFYEV'),\n",
       " Seq('YFTIPYVIHCTLFNTSLLILTWCLFCYLLVLDILSY'),\n",
       " Seq('CFFFSTYSVDGYVHTFSTFLDNNCLYHLYFHKAFLLVL'),\n",
       " Seq('LQRSCLLSSRKGSQ'),\n",
       " Seq('CSLPTTTNLYHLSCFAEWF'),\n",
       " Seq('GLYGTSNLWYNYT'),\n",
       " Seq('RSLLSKTCDLHL'),\n",
       " Seq('CSTQGYWTFYAKLCT'),\n",
       " Seq('VCSHSTRTDFFSVSLLQWFTIWCLPMCYEAQFHY'),\n",
       " Seq('LCLFLLHAPYGITNWSSCWHRLRR'),\n",
       " Seq('QANSTSSWYGHNYYS'),\n",
       " Seq('CFSLVVRCCYKWRQVVSQSIYHNS'),\n",
       " Seq('HTRTSFCSNWNCRFRYVCFIKRITAKWYEWTYHIG'),\n",
       " Seq('TMLRCYFPKCSEKNNQGYTPLVVTHNFDFTFSFSPEYSMVFVLFFV'),\n",
       " Seq('KCLFTFCYGYYCYVCFCNDVCQT'),\n",
       " Seq('ACISLFVFVTFSCHCSLF'),\n",
       " Seq('LGDAYYDMVGYG'),\n",
       " Seq('AKRLCYVCISCSVTNPYDSKNCV'),\n",
       " Seq('ESVDTYECLDTRL'),\n",
       " Seq('CFRSSHFHVGSYNLCYF'),\n",
       " Seq('LLRCSYNCHVFGQRYCFYVC'),\n",
       " Seq('YTSVYNASLLFLRLFLYLLLWPLLFTQPLL'),\n",
       " Seq('IYEFTGTTPTQE'),\n",
       " Seq('IVGCWWQTLYQSSHCTV'),\n",
       " Seq('NVRCKVHISSLTLSFATTQSRIII'),\n",
       " Seq('KNGFTTFCFAFHAGCCRHKQAL'),\n",
       " Seq('RNAGQQGNLTSYSLRV'),\n",
       " Seq('FPSIICSFCYCSRSL'),\n",
       " Seq('CTQQHYQQCKRWLCSLEHNTSYNSSQTNGCHTRL'),\n",
       " Seq('WYNIYLCISIVGNPTGCRCR'),\n",
       " Seq('FSMASYCNSFKGQFCCQITE'),\n",
       " Seq('SCCTTTDVLCCRYYTNCLH'),\n",
       " Seq('QCVSLLQHNKGR'),\n",
       " Seq('VCTCTVIRFTGFEMG'),\n",
       " Seq('WNWYYLYRTGTTL'),\n",
       " Seq('CNRSACQFNCIIFLCFCCRCC'),\n",
       " Seq('DVVYTHWYWSGNNSYTGSQYGSRILWWCIVLSVLPLPHRSSKS'),\n",
       " Seq('KHSLYRLRYVERLWL'),\n",
       " Seq('CTIVFKRVCGVSAARLTPCGTGTSTDVVYRAFDIYNDKVAGFAKFLKTNCCRFQ...VNN'),\n",
       " Seq('TNNVCFSCFIATSL'),\n",
       " Seq('SYNQNSITPCIH'),\n",
       " Seq('QSFQILSFTFNSGLVLTFLFQCYLVPCYTCLWDQWY'),\n",
       " Seq('HNKRLDFWYYFRFEDPVPTYC'),\n",
       " Seq('SIFGCLLPQKQQKLDGK'),\n",
       " Seq('SPSGFFGFRTIGRFANRY'),\n",
       " Seq('FFFRLDSWCCSLLCGLSST'),\n",
       " Seq('KWNHYRCCRLCT'),\n",
       " Seq('PSLRNKVYVEILHCRKRNLSNF'),\n",
       " Seq('RHQICICLCLEQEENQQLCC'),\n",
       " Seq('SQTNRSRANWKDC'),\n",
       " Seq('LLLSFTIIWFPTH'),\n",
       " Seq('WCWLPTIQSSSTFF'),\n",
       " Seq('TSTCTSNCLWT'),\n",
       " Seq('KQMCQFQLQWFNRHRCSY'),\n",
       " Seq('QKVSAFPTIWQRHC'),\n",
       " Seq('HYTMFFWWCQCYNTRNKYF'),\n",
       " Seq('LHRSPCCYSCRSTYSYLACLFYRF'),\n",
       " Seq('CFSNTCRLFNRG'),\n",
       " Seq('SIHHCLHYVTWCRKFSCLL'),\n",
       " Seq('CYHRNSTSVYDQDISRLYNVHLW'),\n",
       " Seq('MQQSFVAIWQFLYTIKPCFNWNSC'),\n",
       " Seq('TRQKHPRSFCTSQTNLQNTTN'),\n",
       " Seq('FFTNITRSIKTKQEVIY'),\n",
       " Seq('RSTFQQSDTCRCWLHQTIW'),\n",
       " Seq('RPYCFATFAHR'),\n",
       " Seq('NDCSIHFCTVSGYNHFWLDLWCRCCITNTICYANGL'),\n",
       " Seq('CYWQNSRLTFFHSKCTWKTSRCGQPKCTSFKHAC'),\n",
       " Seq('LQFWCNFKCFK'),\n",
       " Seq('VDHRQTSKFADICDSTIN'),\n",
       " Seq('NVRVCTWTIKKS'),\n",
       " Seq('FLWKGLSSYVLPSVSTSWCSLLACDLCPCTRKELHNCSCHLS'),\n",
       " Seq('RCLCFKWHTLVCNTKEFL'),\n",
       " Seq('TTNHYYRQHICVW'),\n",
       " Seq('CCNRNCQQHSL'),\n",
       " Seq('ISHRSPRTWKV'),\n",
       " Seq('AVYKMAMVHLARFYSWLDCHSNGDNYALLYDQLL'),\n",
       " Seq('LSQGLLFLWILLQI'),\n",
       " Seq('ASAQRSQITLHINELMDLFMRIFTIGTVTLKQGEIKDATPSDFVRATATIPIQA...VPL'),\n",
       " Seq('AQADEYELMYSFVSEETGTLIVNSVLLFLAFVVFLLVTLAILTALRLCAYCCNI...LLV'),\n",
       " Seq('PWQIPTVLLPLKSLKSSLNNGT'),\n",
       " Seq('VSYSLHGFVFYNLPMPTGIGFCI'),\n",
       " Seq('IGSPVELLSQWLVL'),\n",
       " Seq('CGSATSLLLSDCLRVRVPCGHSIQKLTFFSTCHSMALF'),\n",
       " Seq('SFVDIFVLLDTI'),\n",
       " Seq('DAVTSRTCLKKSLLLHHERFLITNWELRSV'),\n",
       " Seq('QVTQVLLHTVATGLATIN'),\n",
       " Seq('TQTIPVAVTILLCLYSK'),\n",
       " Seq('QQMFHLVDFQVTIAEILLIIMRTFKVSIWNLDYIINLIIKNLSKSLTENKYSQL...EID'),\n",
       " Seq('TNMKIILFLALITLATCELYHYQECVRGTTVLLKEPCSSGTYEGNSPFHPLADN...KTE'),\n",
       " Seq('LCLLSFGSHLNCKIIMKLVTPKRT'),\n",
       " Seq('LHFTKNVVYSHVLNINHM'),\n",
       " Seq('LMTRVLFTSILNGILE'),\n",
       " Seq('LNCAWMRLVLNHPFSTSISVIIQFPVYLLQLIARNLNWVVL'),\n",
       " Seq('WTPKSAKCTPHYVWWTLRFNWQ'),\n",
       " Seq('PEWRTQWGAIKTTSAPRFTQ'),\n",
       " Seq('YCVLVHRSHSTWQGRP'),\n",
       " Seq('PNWLLPKSYQTNSWW'),\n",
       " Seq('NERSQSKMVFLLPRNWARSWTSLWC'),\n",
       " Seq('GSLEYTKRSHWHPQSC'),\n",
       " Seq('QCCNRATTSSRNNIAKRLLRRREQRRQSSLFSFLIT'),\n",
       " Seq('SQQFKKFNSRQQ'),\n",
       " Seq('SIQCNTSFRQTWSRTNPRKFWGPGTNQTRN'),\n",
       " Seq('LQTLAANCTICPQRFSVLRNVAHWHGSHTFGNVVDLHRCHQIG'),\n",
       " Seq('QRSKFQRSSHFAE'),\n",
       " Seq('NSSLTAETEETANCDSSSCCRFG'),\n",
       " Seq('FLQTIATIHEQC'),\n",
       " Seq('LNSGLNSCRPHKADGLYKRFRFSVYDI'),\n",
       " Seq('SHIAIFNQCVTLGRT'),\n",
       " Seq('KSHHIFTEATRSTIECTVNNARESCLYGRALMCKINFSSAIPM'),\n",
       " Seq('LLRRMTKKKKKKKKKK')]"
      ]
     },
     "execution_count": 25,
     "metadata": {},
     "output_type": "execute_result"
    }
   ],
   "source": [
    "large_proteins"
   ]
  },
  {
   "cell_type": "code",
   "execution_count": 26,
   "id": "0d3f95c7",
   "metadata": {},
   "outputs": [],
   "source": [
    "df = pd.DataFrame({'proteins':large_proteins})"
   ]
  },
  {
   "cell_type": "code",
   "execution_count": 27,
   "id": "0cfdc7f7",
   "metadata": {},
   "outputs": [],
   "source": [
    "df['plen']=df['proteins'].map(len)"
   ]
  },
  {
   "cell_type": "code",
   "execution_count": 28,
   "id": "6b6d9c79",
   "metadata": {},
   "outputs": [
    {
     "data": {
      "text/html": [
       "<div>\n",
       "<style scoped>\n",
       "    .dataframe tbody tr th:only-of-type {\n",
       "        vertical-align: middle;\n",
       "    }\n",
       "\n",
       "    .dataframe tbody tr th {\n",
       "        vertical-align: top;\n",
       "    }\n",
       "\n",
       "    .dataframe thead th {\n",
       "        text-align: right;\n",
       "    }\n",
       "</style>\n",
       "<table border=\"1\" class=\"dataframe\">\n",
       "  <thead>\n",
       "    <tr style=\"text-align: right;\">\n",
       "      <th></th>\n",
       "      <th>proteins</th>\n",
       "      <th>plen</th>\n",
       "    </tr>\n",
       "  </thead>\n",
       "  <tbody>\n",
       "    <tr>\n",
       "      <th>0</th>\n",
       "      <td>(Q, T, N, Q, L, S, I, S, C, R, S, V, L)</td>\n",
       "      <td>13</td>\n",
       "    </tr>\n",
       "    <tr>\n",
       "      <th>1</th>\n",
       "      <td>(T, N, F, K, I, C, V, A, V, T, R, L, H, A)</td>\n",
       "      <td>14</td>\n",
       "    </tr>\n",
       "    <tr>\n",
       "      <th>2</th>\n",
       "      <td>(Q, D, T, S, N, S, S, I, F, C, R, L, L, T, V, ...</td>\n",
       "      <td>35</td>\n",
       "    </tr>\n",
       "    <tr>\n",
       "      <th>3</th>\n",
       "      <td>(D, G, E, P, C, P, W, F, Q, R, E, N, T, R, P, ...</td>\n",
       "      <td>46</td>\n",
       "    </tr>\n",
       "    <tr>\n",
       "      <th>4</th>\n",
       "      <td>(T, A, L, C, V, H, Q, T, F, G, C, S, N, C, T, ...</td>\n",
       "      <td>21</td>\n",
       "    </tr>\n",
       "    <tr>\n",
       "      <th>...</th>\n",
       "      <td>...</td>\n",
       "      <td>...</td>\n",
       "    </tr>\n",
       "    <tr>\n",
       "      <th>185</th>\n",
       "      <td>(F, L, Q, T, I, A, T, I, H, E, Q, C)</td>\n",
       "      <td>12</td>\n",
       "    </tr>\n",
       "    <tr>\n",
       "      <th>186</th>\n",
       "      <td>(L, N, S, G, L, N, S, C, R, P, H, K, A, D, G, ...</td>\n",
       "      <td>27</td>\n",
       "    </tr>\n",
       "    <tr>\n",
       "      <th>187</th>\n",
       "      <td>(S, H, I, A, I, F, N, Q, C, V, T, L, G, R, T)</td>\n",
       "      <td>15</td>\n",
       "    </tr>\n",
       "    <tr>\n",
       "      <th>188</th>\n",
       "      <td>(K, S, H, H, I, F, T, E, A, T, R, S, T, I, E, ...</td>\n",
       "      <td>43</td>\n",
       "    </tr>\n",
       "    <tr>\n",
       "      <th>189</th>\n",
       "      <td>(L, L, R, R, M, T, K, K, K, K, K, K, K, K, K, K)</td>\n",
       "      <td>16</td>\n",
       "    </tr>\n",
       "  </tbody>\n",
       "</table>\n",
       "<p>190 rows × 2 columns</p>\n",
       "</div>"
      ],
      "text/plain": [
       "                                              proteins  plen\n",
       "0              (Q, T, N, Q, L, S, I, S, C, R, S, V, L)    13\n",
       "1           (T, N, F, K, I, C, V, A, V, T, R, L, H, A)    14\n",
       "2    (Q, D, T, S, N, S, S, I, F, C, R, L, L, T, V, ...    35\n",
       "3    (D, G, E, P, C, P, W, F, Q, R, E, N, T, R, P, ...    46\n",
       "4    (T, A, L, C, V, H, Q, T, F, G, C, S, N, C, T, ...    21\n",
       "..                                                 ...   ...\n",
       "185               (F, L, Q, T, I, A, T, I, H, E, Q, C)    12\n",
       "186  (L, N, S, G, L, N, S, C, R, P, H, K, A, D, G, ...    27\n",
       "187      (S, H, I, A, I, F, N, Q, C, V, T, L, G, R, T)    15\n",
       "188  (K, S, H, H, I, F, T, E, A, T, R, S, T, I, E, ...    43\n",
       "189   (L, L, R, R, M, T, K, K, K, K, K, K, K, K, K, K)    16\n",
       "\n",
       "[190 rows x 2 columns]"
      ]
     },
     "execution_count": 28,
     "metadata": {},
     "output_type": "execute_result"
    }
   ],
   "source": [
    "df"
   ]
  },
  {
   "cell_type": "code",
   "execution_count": 29,
   "id": "69e11037",
   "metadata": {},
   "outputs": [],
   "source": [
    "df = df.sort_values(by='plen', ascending=False)"
   ]
  },
  {
   "cell_type": "code",
   "execution_count": 30,
   "id": "865ebfe9",
   "metadata": {},
   "outputs": [
    {
     "data": {
      "text/html": [
       "<div>\n",
       "<style scoped>\n",
       "    .dataframe tbody tr th:only-of-type {\n",
       "        vertical-align: middle;\n",
       "    }\n",
       "\n",
       "    .dataframe tbody tr th {\n",
       "        vertical-align: top;\n",
       "    }\n",
       "\n",
       "    .dataframe thead th {\n",
       "        text-align: right;\n",
       "    }\n",
       "</style>\n",
       "<table border=\"1\" class=\"dataframe\">\n",
       "  <thead>\n",
       "    <tr style=\"text-align: right;\">\n",
       "      <th></th>\n",
       "      <th>proteins</th>\n",
       "      <th>plen</th>\n",
       "    </tr>\n",
       "  </thead>\n",
       "  <tbody>\n",
       "    <tr>\n",
       "      <th>118</th>\n",
       "      <td>(C, T, I, V, F, K, R, V, C, G, V, S, A, A, R, ...</td>\n",
       "      <td>2701</td>\n",
       "    </tr>\n",
       "    <tr>\n",
       "      <th>157</th>\n",
       "      <td>(A, S, A, Q, R, S, Q, I, T, L, H, I, N, E, L, ...</td>\n",
       "      <td>290</td>\n",
       "    </tr>\n",
       "    <tr>\n",
       "      <th>168</th>\n",
       "      <td>(T, N, M, K, I, I, L, F, L, A, L, I, T, L, A, ...</td>\n",
       "      <td>123</td>\n",
       "    </tr>\n",
       "    <tr>\n",
       "      <th>158</th>\n",
       "      <td>(A, Q, A, D, E, Y, E, L, M, Y, S, F, V, S, E, ...</td>\n",
       "      <td>83</td>\n",
       "    </tr>\n",
       "    <tr>\n",
       "      <th>167</th>\n",
       "      <td>(Q, Q, M, F, H, L, V, D, F, Q, V, T, I, A, E, ...</td>\n",
       "      <td>63</td>\n",
       "    </tr>\n",
       "    <tr>\n",
       "      <th>...</th>\n",
       "      <td>...</td>\n",
       "      <td>...</td>\n",
       "    </tr>\n",
       "    <tr>\n",
       "      <th>38</th>\n",
       "      <td>(K, C, L, L, H, S, T, I, Y, Y, L)</td>\n",
       "      <td>11</td>\n",
       "    </tr>\n",
       "    <tr>\n",
       "      <th>132</th>\n",
       "      <td>(T, S, T, C, T, S, N, C, L, W, T)</td>\n",
       "      <td>11</td>\n",
       "    </tr>\n",
       "    <tr>\n",
       "      <th>34</th>\n",
       "      <td>(W, Q, S, S, S, R, F, C, H, S, C)</td>\n",
       "      <td>11</td>\n",
       "    </tr>\n",
       "    <tr>\n",
       "      <th>33</th>\n",
       "      <td>(Q, T, C, F, K, L, F, G, N, E, E)</td>\n",
       "      <td>11</td>\n",
       "    </tr>\n",
       "    <tr>\n",
       "      <th>147</th>\n",
       "      <td>(L, Q, F, W, C, N, F, K, C, F, K)</td>\n",
       "      <td>11</td>\n",
       "    </tr>\n",
       "  </tbody>\n",
       "</table>\n",
       "<p>190 rows × 2 columns</p>\n",
       "</div>"
      ],
      "text/plain": [
       "                                              proteins  plen\n",
       "118  (C, T, I, V, F, K, R, V, C, G, V, S, A, A, R, ...  2701\n",
       "157  (A, S, A, Q, R, S, Q, I, T, L, H, I, N, E, L, ...   290\n",
       "168  (T, N, M, K, I, I, L, F, L, A, L, I, T, L, A, ...   123\n",
       "158  (A, Q, A, D, E, Y, E, L, M, Y, S, F, V, S, E, ...    83\n",
       "167  (Q, Q, M, F, H, L, V, D, F, Q, V, T, I, A, E, ...    63\n",
       "..                                                 ...   ...\n",
       "38                   (K, C, L, L, H, S, T, I, Y, Y, L)    11\n",
       "132                  (T, S, T, C, T, S, N, C, L, W, T)    11\n",
       "34                   (W, Q, S, S, S, R, F, C, H, S, C)    11\n",
       "33                   (Q, T, C, F, K, L, F, G, N, E, E)    11\n",
       "147                  (L, Q, F, W, C, N, F, K, C, F, K)    11\n",
       "\n",
       "[190 rows x 2 columns]"
      ]
     },
     "execution_count": 30,
     "metadata": {},
     "output_type": "execute_result"
    }
   ],
   "source": [
    "df"
   ]
  },
  {
   "cell_type": "code",
   "execution_count": 31,
   "id": "74c34dc7",
   "metadata": {},
   "outputs": [],
   "source": [
    "sp=df.nlargest(1, 'plen').iloc[0,0]"
   ]
  },
  {
   "cell_type": "code",
   "execution_count": 32,
   "id": "08845375",
   "metadata": {},
   "outputs": [
    {
     "data": {
      "text/plain": [
       "'>large protein\\nCTIVFKRVCGVSAARLTPCGTGTSTDVVYRAFDIYNDKVAGFAKFLKTNCCRFQEKDEDDNLIDSYFVVKRHTFSNYQHEETIYNLLKDCPAVAKHDFFKFRIDGDMVPHISRQRLTKYTMADLVYALRHFDEGNCDTLKEILVTYNCCDDDYFNKKDWYDFVENPDILRVYANLGERVRQALLKTVQFCDAMRNAGIVGVLTLDNQDLNGNWYDFGDFIQTTPGSGVPVVDSYYSLLMPILTLTRALTAESHVDTDLTKPYIKWDLLKYDFTEERLKLFDRYFKYWDQTYHPNCVNCLDDRCILHCANFNVLFSTVFPPTSFGPLVRKIFVDGVPFVVSTGYHFRELGVVHNQDVNLHSSRLSFKELLVYAADPAMHAASGNLLLDKRTTCFSVAALTNNVAFQTVKPGNFNKDFYDFAVSKGFFKEGSSVELKHFFFAQDGNAAISDYDYYRYNLPTMCDIRQLLFVVEVVDKYFDCYDGGCINANQVIVNNLDKSAGFPFNKWGKARLYYDSMSYEDQDALFAYTKRNVIPTITQMNLKYAISAKNRARTVAGVSICSTMTNRQFHQKLLKSIAATRGATVVIGTSKFYGGWHNMLKTVYSDVENPHLMGWDYPKCDRAMPNMLRIMASLVLARKHTTCCSLSHRFYRLANECAQVLSEMVMCGGSLYVKPGGTSSGDATTAYANSVFNICQAVTANVNALLSTDGNKIADKYVRNLQHRLYECLYRNRDVDTDFVNEFYAYLRKHFSMMILSDDAVVCFNSTYASQGLVASIKNFKSVLYYQNNVFMSEAKCWTETDLTKGPHEFCSQHTMLVKQGDDYVYLPYPDPSRILGAGCFVDDIVKTDGTLMIERFVSLAIDAYPLTKHPNQEYADVFHLYLQYIRKLHDELTGHMLDMYSVMLTNDNTSRYWEPEFYEAMYTPHTVLQAVGACVLCNSQTSLRCGACIRRPFLCCKCCYDHVISTSHKLVLSVNPYVCNAPGCDVTDVTQLYLGGMSYYCKSHKPPISFPLCANGQVFGLYKNTCVGSDNVTDFNAIATCDWTNAGDYILANTCTERLKLFAAETLKATEETFKLSYGIATVREVLSDRELHLSWEVGKPRPPLNRNYVFTGYRVTKNSKVQIGEYTFEKGDYGDAVVYRGTTTYKLNVGDYFVLTSHTVMPLSAPTLVPQEHYVRITGLYPTLNISDEFSSNVANYQKVGMQKYSTLQGPPGTGKSHFAIGLALYYPSARIVYTACSHAAVDALCEKALKYLPIDKCSRIIPARARVECFDKFKVNSTLEQYVFCTVNALPETTADIVVFDEISMATNYDLSVVNARLRAKHYVYIGDPAQLPAPRTLLTKGTLEPEYFNSVCRLMKTIGPDMFLGTCRRCPAEIVDTVSALVYDNKLKAHKDKSAQCFKMFYKGVITHDVSSAINRPQIGVVREFLTRNPAWRKAVFISPYNSQNAVASKILGLPTQTVDSSQGSEYDYVIFTQTTETAHSCNVNRFNVAITRAKVGILCIMSDRDLYDKLQFTSLEIPRRNVATLQAENVTGLFKDCSKVITGLHPTQAPTHLSVDTKFKTEGLCVDIPGIPKDMTYRRLISMMGFKMNYQVNGYPNMFITREEAIRHVRAWIGFDVEGCHATREAVGTNLPLQLGFSTGVNLVAVPTGYVDTPNNTDFSRVSAKPPPGDQFKHLIPLMYKGLPWNVVRIKIVQMLSDTLKNLSDRVVFVLWAHGFELTSMKYFVKIGPERTCCLCDRRATCFSTASDTYACWHHSIGFDYVYNPFMIDVQQWGFTGNLQSNHDLYCQVHGNAHVASCDAIMTRCLAVHECFVKRVDWTIEYPIIGDELKINAACRKVQHMVVKAALLADKFPVLHDIGNPKAIKCVPQADVEWKFYDAQPCSDKAYKIEELFYSYATHSDKFTDGVCLFWNCNVDRYPANSIVCRFDTRVLSNLNLPGCDGGSLYVNKHAFHTPAFDKSAFVNLKQLPFFYYSDSPCESHGKQVVSDIDYVPLKSATCITRCNLGGAVCRHHANEYRLYLDAYNMMISAGFSLWVYKQFDTYNLWNTFTRLQSLENVAFNVVNKGHFDGQQGEVPVSIINNTVYTKVDGVDVELFENKTTLPVNVAFELWAKRNIKPVPEVKILNNLGVDIAANTVIWDYKRDAPAHISTIGVCSMTDIAKKPTETICAPLTVFFDGRVDGQVDLFRNARNGVLITEGSVKGLQPSVGPKQASLNGVTLIGEAVKTQFNYYKKVDGVVQQLPETYFTQSRNLQEFKPRSQMEIDFLELAMDEFIERYKLEGYAFEHIVYGDFSHSQLGGLHLLIGLAKRFKESPFELEDFIPMDSTVKNYFITDAQTGSSKCVCSVIDLLLDDFVEIIKSQDLSVVSKVVKVTIDYTEISFMLWCKDGHVETFYPKLQSSQAWQPGVAMPNLYKMQRMLLEKCDLQNYGDSATLPKGIMMNVAKYTQLCQYLNTLTLAVPYNMRVIHFGAGSDKGVAPGTAVLRQWLPTGTLLVDSDLNDFVSDADSTLIGDCATVHTANKWDLIISDMYDPKTKNVTKENDSKEGFFTYICGFIQQKLALGGSVAIKITEHSWNADLYKLMGHFAWWTAFVTNVNASSSEAFLIGCNYLGKPREQIDGYVMHANYIFWRNTNPIQLSSYSLFDMSKFPLKLRGTAVMSLKEGQINDMILSLLSKGRLIIRENNRVVISSDVLVNN'"
      ]
     },
     "execution_count": 32,
     "metadata": {},
     "output_type": "execute_result"
    }
   ],
   "source": [
    "f'>large protein\\n{sp}'"
   ]
  },
  {
   "cell_type": "code",
   "execution_count": 33,
   "id": "01ba9c9f",
   "metadata": {},
   "outputs": [],
   "source": [
    "with open('protein.fasta', 'w') as f:\n",
    "    f.write(f'>large protein\\n{sp}')"
   ]
  },
  {
   "cell_type": "markdown",
   "id": "9bca72d5",
   "metadata": {},
   "source": [
    "# Basic Local Sequence Alignment NCBI-BLAST"
   ]
  },
  {
   "cell_type": "code",
   "execution_count": 34,
   "id": "9e670d4c",
   "metadata": {},
   "outputs": [
    {
     "data": {
      "text/plain": [
       "Seq('CTIVFKRVCGVSAARLTPCGTGTSTDVVYRAFDIYNDKVAGFAKFLKTNCCRFQ...VNN')"
      ]
     },
     "execution_count": 34,
     "metadata": {},
     "output_type": "execute_result"
    }
   ],
   "source": [
    "read = SeqIO.read('protein.fasta', 'fasta')\n",
    "read.seq"
   ]
  },
  {
   "cell_type": "code",
   "execution_count": 35,
   "id": "e729c3f7",
   "metadata": {},
   "outputs": [],
   "source": [
    "from pprint import pprint"
   ]
  },
  {
   "cell_type": "code",
   "execution_count": 36,
   "id": "74d8e8b4",
   "metadata": {},
   "outputs": [
    {
     "name": "stdout",
     "output_type": "stream",
     "text": [
      "CPU times: user 88.3 ms, sys: 16.8 ms, total: 105 ms\n",
      "Wall time: 1min 1s\n"
     ]
    }
   ],
   "source": [
    "%%time\n",
    "result_handle = NCBIWWW.qblast('blastp', 'pdb', read.seq)\n",
    "blast_res = SearchIO.read(result_handle, 'blast-xml')"
   ]
  },
  {
   "cell_type": "code",
   "execution_count": 37,
   "id": "42337116",
   "metadata": {},
   "outputs": [
    {
     "name": "stdout",
     "output_type": "stream",
     "text": [
      "[('Chain A, RNA-directed RNA polymerase [Severe acute respiratory syndrome '\n",
      "  'coronavirus 2]',\n",
      "  'pdb|7D4F|A'),\n",
      " ('Chain A, nsp12 [Severe acute respiratory syndrome coronavirus 2]',\n",
      "  'pdb|6YYT|A'),\n",
      " ('Chain A, RNA-directed RNA polymerase [Severe acute respiratory syndrome '\n",
      "  'coronavirus 2]',\n",
      "  'pdb|6XEZ|A'),\n",
      " ('Chain A, RNA-directed RNA polymerase [Severe acute respiratory syndrome '\n",
      "  'coronavirus 2]',\n",
      "  'pdb|7BW4|A'),\n",
      " ('Chain A, RNA-directed RNA polymerase [Severe acute respiratory syndrome '\n",
      "  'coronavirus 2]',\n",
      "  'pdb|6XQB|A')]\n"
     ]
    }
   ],
   "source": [
    "pprint([(x.description, x.id) for x in blast_res[0:5]])"
   ]
  },
  {
   "cell_type": "markdown",
   "id": "9705e6c9",
   "metadata": {},
   "source": [
    "## Fetch PDB file"
   ]
  },
  {
   "cell_type": "code",
   "execution_count": 38,
   "id": "30881334",
   "metadata": {},
   "outputs": [
    {
     "data": {
      "text/plain": [
       "Hit(id='pdb|6YYT|A', query_id='unnamed', 1 hsps)"
      ]
     },
     "execution_count": 38,
     "metadata": {},
     "output_type": "execute_result"
    }
   ],
   "source": [
    "s = blast_res[1]\n",
    "s"
   ]
  },
  {
   "cell_type": "code",
   "execution_count": 39,
   "id": "60d43351",
   "metadata": {},
   "outputs": [
    {
     "data": {
      "text/plain": [
       "'Chain A, nsp12 [Severe acute respiratory syndrome coronavirus 2]'"
      ]
     },
     "execution_count": 39,
     "metadata": {},
     "output_type": "execute_result"
    }
   ],
   "source": [
    "s.description\n"
   ]
  },
  {
   "cell_type": "code",
   "execution_count": 40,
   "id": "9e93dc35",
   "metadata": {},
   "outputs": [],
   "source": [
    "pdb_id = s.id.split('|')[1]"
   ]
  },
  {
   "cell_type": "code",
   "execution_count": 41,
   "id": "d62d9f3e",
   "metadata": {},
   "outputs": [
    {
     "data": {
      "text/plain": [
       "'6YYT'"
      ]
     },
     "execution_count": 41,
     "metadata": {},
     "output_type": "execute_result"
    }
   ],
   "source": [
    "pdb_id"
   ]
  },
  {
   "cell_type": "code",
   "execution_count": 42,
   "id": "43e5ac5a",
   "metadata": {},
   "outputs": [],
   "source": [
    "pdb_loc = f'https://files.rcsb.org/download/{pdb_id}.pdb'"
   ]
  },
  {
   "cell_type": "code",
   "execution_count": 43,
   "id": "597e154b",
   "metadata": {},
   "outputs": [
    {
     "data": {
      "text/plain": [
       "'https://files.rcsb.org/download/6YYT.pdb'"
      ]
     },
     "execution_count": 43,
     "metadata": {},
     "output_type": "execute_result"
    }
   ],
   "source": [
    "pdb_loc"
   ]
  },
  {
   "cell_type": "code",
   "execution_count": 44,
   "id": "b51b696f",
   "metadata": {},
   "outputs": [
    {
     "data": {
      "text/plain": [
       "('6YYT_sars.pdb', <http.client.HTTPMessage at 0x11a6010a0>)"
      ]
     },
     "execution_count": 44,
     "metadata": {},
     "output_type": "execute_result"
    }
   ],
   "source": [
    "pdb_fname=f'{pdb_id}_sars.pdb'\n",
    "urllib.request.urlretrieve(pdb_loc, pdb_fname)"
   ]
  },
  {
   "cell_type": "code",
   "execution_count": 45,
   "id": "94d60883",
   "metadata": {},
   "outputs": [
    {
     "name": "stderr",
     "output_type": "stream",
     "text": [
      "/Users/ismail/RestInGit/sars-cov-2/venv/lib/python3.9/site-packages/Bio/PDB/StructureBuilder.py:89: PDBConstructionWarning: WARNING: Chain A is discontinuous at line 12059.\n",
      "  warnings.warn(\n"
     ]
    }
   ],
   "source": [
    "pdb_parser = PDBParser()\n",
    "structure = pdb_parser.get_structure(pdb_id, pdb_fname)"
   ]
  },
  {
   "cell_type": "code",
   "execution_count": 46,
   "id": "669ce42f",
   "metadata": {},
   "outputs": [
    {
     "data": {
      "text/plain": [
       "<Structure id=6YYT>"
      ]
     },
     "execution_count": 46,
     "metadata": {},
     "output_type": "execute_result"
    }
   ],
   "source": [
    "structure"
   ]
  },
  {
   "cell_type": "code",
   "execution_count": 47,
   "id": "64ab4d1c",
   "metadata": {},
   "outputs": [
    {
     "name": "stdout",
     "output_type": "stream",
     "text": [
      "<Chain id=A>\n",
      "<Chain id=B>\n",
      "<Chain id=C>\n",
      "<Chain id=D>\n",
      "<Chain id=P>\n",
      "<Chain id=Q>\n",
      "<Chain id=T>\n",
      "<Chain id=U>\n"
     ]
    }
   ],
   "source": [
    "# Number of chains\n",
    "for chain in structure[0]:\n",
    "    print(chain)"
   ]
  },
  {
   "cell_type": "markdown",
   "id": "25bc47ae",
   "metadata": {},
   "source": [
    "# Visualize SARS-Cov2"
   ]
  },
  {
   "cell_type": "code",
   "execution_count": 48,
   "id": "3e00b2f1",
   "metadata": {},
   "outputs": [
    {
     "data": {
      "application/vnd.jupyter.widget-view+json": {
       "model_id": "a32becb655a44ec9b43066530c103dc0",
       "version_major": 2,
       "version_minor": 0
      },
      "text/plain": [
       "NGLWidget()"
      ]
     },
     "metadata": {},
     "output_type": "display_data"
    }
   ],
   "source": [
    "nv.demo()"
   ]
  },
  {
   "cell_type": "code",
   "execution_count": 49,
   "id": "d606244e",
   "metadata": {},
   "outputs": [],
   "source": [
    "view = nv.show_biopython(structure)"
   ]
  },
  {
   "cell_type": "code",
   "execution_count": 50,
   "id": "3ec389ab",
   "metadata": {},
   "outputs": [
    {
     "data": {
      "application/vnd.jupyter.widget-view+json": {
       "model_id": "65933ee07de744dda41bce8c371981ad",
       "version_major": 2,
       "version_minor": 0
      },
      "text/plain": [
       "NGLWidget()"
      ]
     },
     "metadata": {},
     "output_type": "display_data"
    }
   ],
   "source": [
    "view"
   ]
  },
  {
   "cell_type": "code",
   "execution_count": 51,
   "id": "193289e2",
   "metadata": {},
   "outputs": [
    {
     "data": {
      "application/vnd.jupyter.widget-view+json": {
       "model_id": "46c6dfd2c9d54714b70a9df8a7aaa9cf",
       "version_major": 2,
       "version_minor": 0
      },
      "text/plain": [
       "NGLWidget()"
      ]
     },
     "metadata": {},
     "output_type": "display_data"
    },
    {
     "data": {
      "application/vnd.jupyter.widget-view+json": {
       "model_id": "8d0f487880b1446eac6b4b8465d6334a",
       "version_major": 2,
       "version_minor": 0
      },
      "text/plain": [
       "Tab(children=(Box(children=(Box(children=(Box(children=(Label(value='step'), IntSlider(value=1, min=-100)), la…"
      ]
     },
     "metadata": {},
     "output_type": "display_data"
    }
   ],
   "source": [
    "nv.show_biopython(structure, gui=True)"
   ]
  },
  {
   "cell_type": "code",
   "execution_count": 52,
   "id": "32ced944",
   "metadata": {},
   "outputs": [
    {
     "data": {
      "text/plain": [
       "10"
      ]
     },
     "execution_count": 52,
     "metadata": {},
     "output_type": "execute_result"
    }
   ],
   "source": [
    "len(seq[0:10])"
   ]
  },
  {
   "cell_type": "code",
   "execution_count": null,
   "id": "36407c80",
   "metadata": {},
   "outputs": [],
   "source": []
  },
  {
   "cell_type": "code",
   "execution_count": null,
   "id": "f4bc0c5f",
   "metadata": {},
   "outputs": [],
   "source": []
  }
 ],
 "metadata": {
  "interpreter": {
   "hash": "ff9afc106f272f94d7facef4bb9184fffb64f040ab0d8b1a1153ba435e93b492"
  },
  "kernelspec": {
   "display_name": "Python 3 (ipykernel)",
   "language": "python",
   "name": "python3"
  },
  "language_info": {
   "codemirror_mode": {
    "name": "ipython",
    "version": 3
   },
   "file_extension": ".py",
   "mimetype": "text/x-python",
   "name": "python",
   "nbconvert_exporter": "python",
   "pygments_lexer": "ipython3",
   "version": "3.9.9"
  }
 },
 "nbformat": 4,
 "nbformat_minor": 5
}
