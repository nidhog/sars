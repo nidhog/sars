{
 "cells": [
  {
   "cell_type": "code",
   "execution_count": 6,
   "source": [],
   "outputs": [],
   "metadata": {}
  },
  {
   "cell_type": "markdown",
   "source": [
    "# Prep\n",
    "Import used libs and modules"
   ],
   "metadata": {}
  },
  {
   "cell_type": "code",
   "execution_count": 4,
   "source": [
    "import Bio\n",
    "import urllib\n",
    "import pandas as pd\n",
    "import nglview as nv\n",
    "\n",
    "from Bio.Seq import Seq\n",
    "from Bio.Blast import NCBIWWW\n",
    "# from Bio.Alphabet import IUPAC\n",
    "from collections import Counter\n",
    "from Bio.Data import CodonTable\n",
    "from Bio import SeqIO, SearchIO\n",
    "from Bio.PDB import PDBParser,MMCIFParser\n",
    "from Bio.SeqUtils import GC,molecular_weight\n",
    "# from Bio.Alphabet import generic_dna,generic_rna,generic_protein"
   ],
   "outputs": [
    {
     "output_type": "display_data",
     "data": {
      "application/vnd.jupyter.widget-view+json": {
       "version_major": 2,
       "version_minor": 0,
       "model_id": "cca9e0609d3a4b2d8d1cdb443f4f7ef6"
      },
      "text/plain": []
     },
     "metadata": {}
    }
   ],
   "metadata": {}
  },
  {
   "cell_type": "markdown",
   "source": [
    "# Understanding FASTA\n",
    "*FASTA format* is a text format often used to represent nucleotide or peptide sequences. In FASTA format base pairs or amino acids are represented using single-letter codes. \n",
    "The nucleic acid codes are:\n",
    "\n",
    "        A --> adenosine           M --> A C (amino)\n",
    "        C --> cytidine            S --> G C (strong)\n",
    "        G --> guanine             W --> A T (weak)\n",
    "        T --> thymidine           B --> G T C\n",
    "        U --> uridine             D --> G A T\n",
    "        R --> G A (purine)        H --> A C T\n",
    "        Y --> T C (pyrimidine)    V --> G C A\n",
    "        K --> G T (keto)          N --> A G C T (any)\n",
    "                                  -  gap of indeterminate length\n",
    "\n",
    "The accepted amino acid codes are:\n",
    "\n",
    "        A ALA alanine                         P PRO proline\n",
    "        B ASX aspartate or asparagine         Q GLN glutamine\n",
    "        C CYS cystine                         R ARG arginine\n",
    "        D ASP aspartate                       S SER serine\n",
    "        E GLU glutamate                       T THR threonine\n",
    "        F PHE phenylalanine                   U     selenocysteine\n",
    "        G GLY glycine                         V VAL valine\n",
    "        H HIS histidine                       W TRP tryptophan\n",
    "        I ILE isoleucine                      Y TYR tyrosine\n",
    "        K LYS lysine                          Z GLX glutamate or glutamine\n",
    "        L LEU leucine                         X     any\n",
    "        M MET methionine                      *     translation stop\n",
    "        N ASN asparagine                      -     gap of indeterminate length\n",
    "\n"
   ],
   "metadata": {}
  },
  {
   "cell_type": "markdown",
   "source": [
    "## Download the SARS-cov2 genome sequence"
   ],
   "metadata": {}
  },
  {
   "cell_type": "markdown",
   "source": [
    "**Note:**You can skip over this part and just use the `sars.fasta` file provided in this folder.\n",
    "\n",
    "If you want to download this file by yourself, you can use EDirect a tool provided by NCBI that provides access to its databases from the terminal. You can read more about [EDirect and how to install it here](https://www.ncbi.nlm.nih.gov/books/NBK179288/), but the installation is as simple as follows:\n",
    "\n",
    "**1 - First install EDirect**\n",
    "```\n",
    "sh -c \"$(curl -fsSL ftp://ftp.ncbi.nlm.nih.gov/entrez/entrezdirect/install-edirect.sh)\"\n",
    "```\n",
    "**2 - Add to your path**\n",
    "```\n",
    "export PATH=${PATH}:${HOME}/edirect\n",
    "```\n",
    "\n",
    "After you have installed EDirect you can download the SARS-cov2 sequence from NCBI \n",
    "[The sequence can be find here under the id: MN908947](https://www.ncbi.nlm.nih.gov/nuccore/MN908947.3).\n",
    "So to download that using EDirect you can use the following command:\n",
    "```\n",
    "esearch -db nucleotide -query \"MN908947\" | efetch -format fasta > sars.fasta\n",
    "```\n",
    "The `sars.fasta` is just the name we decided to give to the fasta file stored locally.\n"
   ],
   "metadata": {}
  },
  {
   "cell_type": "markdown",
   "source": [
    "## Having a look at the sequence"
   ],
   "metadata": {}
  },
  {
   "cell_type": "markdown",
   "source": [
    "As a quick reminder:\n",
    "* DNA (Deoxy-Ribonucleic Acid) constitutes of 4 Bases A T G C\n",
    "* RNA (Ribonucleic Acid) is composed of U instead of T"
   ],
   "metadata": {}
  },
  {
   "cell_type": "code",
   "execution_count": 5,
   "source": [
    "# Read the sequence using SeqIO\n",
    "fread = SeqIO.read(\"sars.fasta\", \"fasta\")"
   ],
   "outputs": [],
   "metadata": {}
  },
  {
   "cell_type": "code",
   "execution_count": 7,
   "source": [
    "# Let's print the sequence:\n",
    "print(fread)"
   ],
   "outputs": [
    {
     "output_type": "stream",
     "name": "stdout",
     "text": [
      "ID: MN908947.3\n",
      "Name: MN908947.3\n",
      "Description: MN908947.3 Severe acute respiratory syndrome coronavirus 2 isolate Wuhan-Hu-1, complete genome\n",
      "Number of features: 0\n",
      "Seq('ATTAAAGGTTTATACCTTCCCAGGTAACAAACCAACCAACTTTCGATCTCTTGT...AAA')\n"
     ]
    }
   ],
   "metadata": {}
  },
  {
   "cell_type": "code",
   "execution_count": 13,
   "source": [
    "# We can access some of these variables shown above, read more in the docs\n",
    "print(fread.id)\n",
    "print(fread.description)"
   ],
   "outputs": [
    {
     "output_type": "stream",
     "name": "stdout",
     "text": [
      "MN908947.3\n",
      "MN908947.3 Severe acute respiratory syndrome coronavirus 2 isolate Wuhan-Hu-1, complete genome\n"
     ]
    }
   ],
   "metadata": {}
  },
  {
   "cell_type": "code",
   "execution_count": 14,
   "source": [
    "# Get the sequence in a variable\n",
    "seq = fread.seq"
   ],
   "outputs": [],
   "metadata": {}
  },
  {
   "cell_type": "code",
   "execution_count": 15,
   "source": [
    "seq"
   ],
   "outputs": [
    {
     "output_type": "execute_result",
     "data": {
      "text/plain": [
       "Seq('ATTAAAGGTTTATACCTTCCCAGGTAACAAACCAACCAACTTTCGATCTCTTGT...AAA')"
      ]
     },
     "metadata": {},
     "execution_count": 15
    }
   ],
   "metadata": {}
  },
  {
   "cell_type": "code",
   "execution_count": 17,
   "source": [
    "# we can even check the molecular weight of the sequence \n",
    "mw = molecular_weight(seq)\n",
    "print(f'Molecular weight: {mw}')"
   ],
   "outputs": [
    {
     "output_type": "stream",
     "name": "stdout",
     "text": [
      "Molecular weight 9241219.214400413\n"
     ]
    }
   ],
   "metadata": {}
  },
  {
   "cell_type": "markdown",
   "source": [
    "## 3. Sequence manipulation using Biopython"
   ],
   "metadata": {}
  },
  {
   "cell_type": "markdown",
   "source": [
    "- indexing/slicing\n",
    "- concatination\n",
    "- codon search\n",
    "- GC content\n",
    "- complement"
   ],
   "metadata": {}
  },
  {
   "cell_type": "code",
   "execution_count": 25,
   "source": [
    "# indexing slicing\n",
    "seq[0:4]"
   ],
   "outputs": [
    {
     "output_type": "execute_result",
     "data": {
      "text/plain": [
       "Seq('ATTA')"
      ]
     },
     "metadata": {},
     "execution_count": 25
    }
   ],
   "metadata": {}
  },
  {
   "cell_type": "code",
   "execution_count": 30,
   "source": [
    "seq.find('CG')"
   ],
   "outputs": [
    {
     "output_type": "execute_result",
     "data": {
      "text/plain": [
       "43"
      ]
     },
     "metadata": {},
     "execution_count": 30
    }
   ],
   "metadata": {}
  },
  {
   "cell_type": "code",
   "execution_count": 32,
   "source": [
    "seq[44:].find('CG')"
   ],
   "outputs": [
    {
     "output_type": "execute_result",
     "data": {
      "text/plain": [
       "26"
      ]
     },
     "metadata": {},
     "execution_count": 32
    }
   ],
   "metadata": {}
  },
  {
   "cell_type": "code",
   "execution_count": 34,
   "source": [
    "seq[(44+27):].find('CG')"
   ],
   "outputs": [
    {
     "output_type": "execute_result",
     "data": {
      "text/plain": [
       "28"
      ]
     },
     "metadata": {},
     "execution_count": 34
    }
   ],
   "metadata": {}
  },
  {
   "cell_type": "code",
   "execution_count": 35,
   "source": [
    "seq.count('CG')"
   ],
   "outputs": [
    {
     "output_type": "execute_result",
     "data": {
      "text/plain": [
       "439"
      ]
     },
     "metadata": {},
     "execution_count": 35
    }
   ],
   "metadata": {}
  },
  {
   "cell_type": "code",
   "execution_count": 43,
   "source": [
    "GC(seq) == 100*(seq.count('G') + seq.count('C'))/len(seq)"
   ],
   "outputs": [
    {
     "output_type": "execute_result",
     "data": {
      "text/plain": [
       "True"
      ]
     },
     "metadata": {},
     "execution_count": 43
    }
   ],
   "metadata": {}
  },
  {
   "cell_type": "code",
   "execution_count": 44,
   "source": [
    "seq.complement()"
   ],
   "outputs": [
    {
     "output_type": "execute_result",
     "data": {
      "text/plain": [
       "Seq('TAATTTCCAAATATGGAAGGGTCCATTGTTTGGTTGGTTGAAAGCTAGAGAACA...TTT')"
      ]
     },
     "metadata": {},
     "execution_count": 44
    }
   ],
   "metadata": {}
  },
  {
   "cell_type": "code",
   "execution_count": 46,
   "source": [
    "GC(seq.complement()) == GC(seq)"
   ],
   "outputs": [
    {
     "output_type": "execute_result",
     "data": {
      "text/plain": [
       "True"
      ]
     },
     "metadata": {},
     "execution_count": 46
    }
   ],
   "metadata": {}
  },
  {
   "cell_type": "code",
   "execution_count": 47,
   "source": [
    "(seq.reverse_complement())[-10:]"
   ],
   "outputs": [
    {
     "output_type": "execute_result",
     "data": {
      "text/plain": [
       "Seq('AACCTTTAAT')"
      ]
     },
     "metadata": {},
     "execution_count": 47
    }
   ],
   "metadata": {}
  },
  {
   "cell_type": "code",
   "execution_count": 48,
   "source": [
    "seq.complement()[:10]"
   ],
   "outputs": [
    {
     "output_type": "execute_result",
     "data": {
      "text/plain": [
       "Seq('TAATTTCCAA')"
      ]
     },
     "metadata": {},
     "execution_count": 48
    }
   ],
   "metadata": {}
  },
  {
   "cell_type": "markdown",
   "source": [
    "## 4. Transcription & Translation Studies\n",
    "\n",
    "<div class=\"alert alert-block alert-warning\" style=\"font-size:16px\">\n",
    "DNA > RNA = Transcription\n",
    "</div>\n",
    "<div class=\"alert alert-block alert-warning\" style=\"font-size:16px\">\n",
    "mRNA > amino acid (protein) = Translation\n",
    "</div>"
   ],
   "metadata": {}
  },
  {
   "cell_type": "code",
   "execution_count": 49,
   "source": [
    "mRNA = seq.transcribe()"
   ],
   "outputs": [],
   "metadata": {}
  },
  {
   "cell_type": "code",
   "execution_count": 55,
   "source": [
    "print(CodonTable.unambiguous_dna_by_id[1])"
   ],
   "outputs": [
    {
     "output_type": "stream",
     "name": "stdout",
     "text": [
      "Table 1 Standard, SGC0\n",
      "\n",
      "  |  T      |  C      |  A      |  G      |\n",
      "--+---------+---------+---------+---------+--\n",
      "T | TTT F   | TCT S   | TAT Y   | TGT C   | T\n",
      "T | TTC F   | TCC S   | TAC Y   | TGC C   | C\n",
      "T | TTA L   | TCA S   | TAA Stop| TGA Stop| A\n",
      "T | TTG L(s)| TCG S   | TAG Stop| TGG W   | G\n",
      "--+---------+---------+---------+---------+--\n",
      "C | CTT L   | CCT P   | CAT H   | CGT R   | T\n",
      "C | CTC L   | CCC P   | CAC H   | CGC R   | C\n",
      "C | CTA L   | CCA P   | CAA Q   | CGA R   | A\n",
      "C | CTG L(s)| CCG P   | CAG Q   | CGG R   | G\n",
      "--+---------+---------+---------+---------+--\n",
      "A | ATT I   | ACT T   | AAT N   | AGT S   | T\n",
      "A | ATC I   | ACC T   | AAC N   | AGC S   | C\n",
      "A | ATA I   | ACA T   | AAA K   | AGA R   | A\n",
      "A | ATG M(s)| ACG T   | AAG K   | AGG R   | G\n",
      "--+---------+---------+---------+---------+--\n",
      "G | GTT V   | GCT A   | GAT D   | GGT G   | T\n",
      "G | GTC V   | GCC A   | GAC D   | GGC G   | C\n",
      "G | GTA V   | GCA A   | GAA E   | GGA G   | A\n",
      "G | GTG V   | GCG A   | GAG E   | GGG G   | G\n",
      "--+---------+---------+---------+---------+--\n"
     ]
    }
   ],
   "metadata": {}
  },
  {
   "cell_type": "code",
   "execution_count": 56,
   "source": [
    "proteins = seq.translate()"
   ],
   "outputs": [
    {
     "output_type": "stream",
     "name": "stderr",
     "text": [
      "/Users/ismail/RestInGit/sars-cov-2/venv/lib/python3.9/site-packages/Bio/Seq.py:2979: BiopythonWarning: Partial codon, len(sequence) not a multiple of three. Explicitly trim the sequence or add trailing N before translation. This may become an error in future.\n",
      "  warnings.warn(\n"
     ]
    }
   ],
   "metadata": {}
  },
  {
   "cell_type": "code",
   "execution_count": 57,
   "source": [
    "mRNA.translate()"
   ],
   "outputs": [
    {
     "output_type": "stream",
     "name": "stderr",
     "text": [
      "/Users/ismail/RestInGit/sars-cov-2/venv/lib/python3.9/site-packages/Bio/Seq.py:2979: BiopythonWarning: Partial codon, len(sequence) not a multiple of three. Explicitly trim the sequence or add trailing N before translation. This may become an error in future.\n",
      "  warnings.warn(\n"
     ]
    },
    {
     "output_type": "execute_result",
     "data": {
      "text/plain": [
       "Seq('IKGLYLPR*QTNQLSISCRSVL*TNFKICVAVTRLHA*CTHAV*LITNYCR*QD...KKK')"
      ]
     },
     "metadata": {},
     "execution_count": 57
    }
   ],
   "metadata": {}
  },
  {
   "cell_type": "code",
   "execution_count": 58,
   "source": [
    "proteins"
   ],
   "outputs": [
    {
     "output_type": "execute_result",
     "data": {
      "text/plain": [
       "Seq('IKGLYLPR*QTNQLSISCRSVL*TNFKICVAVTRLHA*CTHAV*LITNYCR*QD...KKK')"
      ]
     },
     "metadata": {},
     "execution_count": 58
    }
   ],
   "metadata": {}
  },
  {
   "cell_type": "code",
   "execution_count": 59,
   "source": [
    "proteins.back_transcribe()"
   ],
   "outputs": [
    {
     "output_type": "execute_result",
     "data": {
      "text/plain": [
       "Seq('IKGLYLPR*QTNQLSISCRSVL*TNFKICVAVTRLHA*CTHAV*LITNYCR*QD...KKK')"
      ]
     },
     "metadata": {},
     "execution_count": 59
    }
   ],
   "metadata": {}
  },
  {
   "cell_type": "code",
   "execution_count": 61,
   "source": [
    "Counter(proteins).most_common()"
   ],
   "outputs": [
    {
     "output_type": "execute_result",
     "data": {
      "text/plain": [
       "[('L', 886),\n",
       " ('S', 810),\n",
       " ('*', 774),\n",
       " ('T', 679),\n",
       " ('C', 635),\n",
       " ('F', 593),\n",
       " ('R', 558),\n",
       " ('V', 548),\n",
       " ('Y', 505),\n",
       " ('N', 472),\n",
       " ('I', 436),\n",
       " ('K', 413),\n",
       " ('G', 394),\n",
       " ('A', 375),\n",
       " ('H', 332),\n",
       " ('Q', 325),\n",
       " ('P', 292),\n",
       " ('D', 290),\n",
       " ('E', 270),\n",
       " ('W', 263),\n",
       " ('M', 117)]"
      ]
     },
     "metadata": {},
     "execution_count": 61
    }
   ],
   "metadata": {}
  },
  {
   "cell_type": "code",
   "execution_count": 66,
   "source": [
    "pylab.bar(Counter(proteins).keys(), Counter(proteins).values())"
   ],
   "outputs": [
    {
     "output_type": "execute_result",
     "data": {
      "text/plain": [
       "<BarContainer object of 21 artists>"
      ]
     },
     "metadata": {},
     "execution_count": 66
    },
    {
     "output_type": "display_data",
     "data": {
      "image/png": "[encoded data removed]",
      "text/plain": [
       "<Figure size 432x288 with 1 Axes>"
      ]
     },
     "metadata": {
      "needs_background": "light"
     }
    }
   ],
   "metadata": {}
  },
  {
   "cell_type": "code",
   "execution_count": 67,
   "source": [
    "plist = proteins.split('*')\n",
    "large_proteins = [x for x in plist if len(x)>10]"
   ],
   "outputs": [],
   "metadata": {}
  },
  {
   "cell_type": "code",
   "execution_count": 68,
   "source": [
    "large_proteins"
   ],
   "outputs": [
    {
     "output_type": "execute_result",
     "data": {
      "text/plain": [
       "[Seq('QTNQLSISCRSVL'),\n",
       " Seq('TNFKICVAVTRLHA'),\n",
       " Seq('QDTSNSSIFCRLLTVSSVLQPIISTSRFRPGVTER'),\n",
       " Seq('DGEPCPWFQRENTRPTQFACFTGSRRARTWLWRLRGGGLIRGTSTS'),\n",
       " Seq('TALCVHQTFGCSNCTSWSCYG'),\n",
       " Seq('AGSRTRRHSVRS'),\n",
       " Seq('DTWCPCPSCGRNTSGLPQGSSS'),\n",
       " Seq('SFMHFVRTTGLY'),\n",
       " Seq('HLQWGMSKFCISLKFHNQDYSTKG'),\n",
       " Seq('NSICLSSCVTK'),\n",
       " Seq('MQPNVPFNSHEV'),\n",
       " Seq('RRCHYLWLLTPKCCC'),\n",
       " Seq('NLLSSMSQFRSRT'),\n",
       " Seq('GWSHYCLWRLCVLLCWLP'),\n",
       " Seq('PYRCCWRRFRRS'),\n",
       " Seq('NTPKRESQHQYCW'),\n",
       " Seq('RDRHYFGIFFCFHKCFCGNCERFGL'),\n",
       " Seq('TEINTESSLCICIRGCSCCTINFLPHS'),\n",
       " Seq('NCSKFCACFTEGRYNNTRWNFTVFTETH'),\n",
       " Seq('QSSCNGLHYRWCCSVDFAVAN'),\n",
       " Seq('NCRWTNCHLCKGN'),\n",
       " Seq('NICHALKGIVQKVC'),\n",
       " Seq('IQRRNWPTHASKSPKRNYLLRGRNTSHRSVNRGSCLENW'),\n",
       " Seq('RAYVARNQRHRKVLCPCT'),\n",
       " Seq('YDGNKQYLHTQRRCTNKGYFW'),\n",
       " Seq('HCDRSARLQECEYHF'),\n",
       " Seq('VRLCCGRCCHKNFATSI'),\n",
       " Seq('IGFTYVLFFLPSR'),\n",
       " Seq('TFGIWCHFCCSST'),\n",
       " Seq('GQSDNYYSNNC'),\n",
       " Seq('GSTSIRDGTYTSCSDY'),\n",
       " Seq('SARSSTCTIIISWYFWC'),\n",
       " Seq('PYTFFKSLCRYCSHKCLLSCL'),\n",
       " Seq('QTCFKLFGNEE'),\n",
       " Seq('WQSSSRFCHSC'),\n",
       " Seq('HHFLKERCSIYSG'),\n",
       " Seq('CCSRGCFNCCGYTY'),\n",
       " Seq('NASESFEKSANRQLYNHLPGSGFKWLHCRGGKDSA'),\n",
       " Seq('KCLLHSTIYYL'),\n",
       " Seq('EARNSWNCFLEFARNACTCRRNTQINACLCGN'),\n",
       " Seq('NSCYNATWLCNTWLKFGRSCSVYEISQSASYSFCFFT'),\n",
       " Seq('RLVLFWTIYTTRYRIS'),\n",
       " Seq('DTSFFERSEDY'),\n",
       " Seq('PPHASCGHVNDIWTTVWSNLFGWS'),\n",
       " Seq('QLLSCHCIVNTPTNRVEV'),\n",
       " Seq('STCSTRCLLQSKGW'),\n",
       " Seq('RNNELLVSTCQFRFLQKSLERGV'),\n",
       " Seq('GCRSCYVHGHTFL'),\n",
       " Seq('TSYKISSTTGVTFCYDVSTTCSV'),\n",
       " Seq('RNFVLHRRCFTYKVLRIQRSYYGCFLQRKQLHNNHKTSYL'),\n",
       " Seq('ERQFLFHRATN'),\n",
       " Seq('SCTKPTISKRKLR'),\n",
       " Seq('TKYLVYTLSLEHKTS'),\n",
       " Seq('CTEVRGRAGNG'),\n",
       " Seq('RSSGKSYHTERRS'),\n",
       " Seq('CENYRSCRRHYT'),\n",
       " Seq('FKNYRRGWPHRSNGCLCRQF'),\n",
       " Seq('SIRFENPCYSWFSCC'),\n",
       " Seq('HSYTVFKPCLY'),\n",
       " Seq('LYALFLYFIATIVYFY'),\n",
       " Seq('SIYADYYSKEYC'),\n",
       " Seq('TDKYYNLVFTIKCLPRFFNLLNRCFRCFNV'),\n",
       " Seq('FRHAFLLYWLQRRLFELY'),\n",
       " Seq('CHYCNLLYWFYTL'),\n",
       " Seq('WFRFFRHLSFFRNYTNYHFIF'),\n",
       " Seq('MGFNCFWLSCRVVFGIYSFH'),\n",
       " Seq('VFLCTWIGCNHAIVFQLFCSTFY'),\n",
       " Seq('SCTNGPDFSYG'),\n",
       " Seq('NVHLLCIILLCMEKLCACCRRL'),\n",
       " Seq('RLLQTTQLELC'),\n",
       " Seq('CYSEEWFHPSLL'),\n",
       " Seq('RIICKISVCLLQSAYVSTYTVTRSGISV'),\n",
       " Seq('RTNGKTQNTSCNCRS'),\n",
       " Seq('TCKECVLRQCLIYFYFSSSARVC'),\n",
       " Seq('CAGSKKSQHCFDMER'),\n",
       " Seq('SYTCVPFCCCYFLFNNTCSCHV'),\n",
       " Seq('QSLPIDCCSHNKRSGFCRAWFAWHDITHN'),\n",
       " Seq('HLLHTIKTYRVH'),\n",
       " Seq('HTLCAHGWLYYSIS'),\n",
       " Seq('LLQIFTRSFLWCRCCKFTY'),\n",
       " Seq('YVYTTNSTYWCFGHISIYSSWWYCSYRSNMPCLLFYEV'),\n",
       " Seq('YFTIPYVIHCTLFNTSLLILTWCLFCYLLVLDILSY'),\n",
       " Seq('CFFFSTYSVDGYVHTFSTFLDNNCLYHLYFHKAFLLVL'),\n",
       " Seq('LQRSCLLSSRKGSQ'),\n",
       " Seq('CSLPTTTNLYHLSCFAEWF'),\n",
       " Seq('GLYGTSNLWYNYT'),\n",
       " Seq('RSLLSKTCDLHL'),\n",
       " Seq('CSTQGYWTFYAKLCT'),\n",
       " Seq('VCSHSTRTDFFSVSLLQWFTIWCLPMCYEAQFHY'),\n",
       " Seq('LCLFLLHAPYGITNWSSCWHRLRR'),\n",
       " Seq('QANSTSSWYGHNYYS'),\n",
       " Seq('CFSLVVRCCYKWRQVVSQSIYHNS'),\n",
       " Seq('HTRTSFCSNWNCRFRYVCFIKRITAKWYEWTYHIG'),\n",
       " Seq('TMLRCYFPKCSEKNNQGYTPLVVTHNFDFTFSFSPEYSMVFVLFFV'),\n",
       " Seq('KCLFTFCYGYYCYVCFCNDVCQT'),\n",
       " Seq('ACISLFVFVTFSCHCSLF'),\n",
       " Seq('LGDAYYDMVGYG'),\n",
       " Seq('AKRLCYVCISCSVTNPYDSKNCV'),\n",
       " Seq('ESVDTYECLDTRL'),\n",
       " Seq('CFRSSHFHVGSYNLCYF'),\n",
       " Seq('LLRCSYNCHVFGQRYCFYVC'),\n",
       " Seq('YTSVYNASLLFLRLFLYLLLWPLLFTQPLL'),\n",
       " Seq('IYEFTGTTPTQE'),\n",
       " Seq('IVGCWWQTLYQSSHCTV'),\n",
       " Seq('NVRCKVHISSLTLSFATTQSRIII'),\n",
       " Seq('KNGFTTFCFAFHAGCCRHKQAL'),\n",
       " Seq('RNAGQQGNLTSYSLRV'),\n",
       " Seq('FPSIICSFCYCSRSL'),\n",
       " Seq('CTQQHYQQCKRWLCSLEHNTSYNSSQTNGCHTRL'),\n",
       " Seq('WYNIYLCISIVGNPTGCRCR'),\n",
       " Seq('FSMASYCNSFKGQFCCQITE'),\n",
       " Seq('SCCTTTDVLCCRYYTNCLH'),\n",
       " Seq('QCVSLLQHNKGR'),\n",
       " Seq('VCTCTVIRFTGFEMG'),\n",
       " Seq('WNWYYLYRTGTTL'),\n",
       " Seq('CNRSACQFNCIIFLCFCCRCC'),\n",
       " Seq('DVVYTHWYWSGNNSYTGSQYGSRILWWCIVLSVLPLPHRSSKS'),\n",
       " Seq('KHSLYRLRYVERLWL'),\n",
       " Seq('CTIVFKRVCGVSAARLTPCGTGTSTDVVYRAFDIYNDKVAGFAKFLKTNCCRFQ...VNN'),\n",
       " Seq('TNNVCFSCFIATSL'),\n",
       " Seq('SYNQNSITPCIH'),\n",
       " Seq('QSFQILSFTFNSGLVLTFLFQCYLVPCYTCLWDQWY'),\n",
       " Seq('HNKRLDFWYYFRFEDPVPTYC'),\n",
       " Seq('SIFGCLLPQKQQKLDGK'),\n",
       " Seq('SPSGFFGFRTIGRFANRY'),\n",
       " Seq('FFFRLDSWCCSLLCGLSST'),\n",
       " Seq('KWNHYRCCRLCT'),\n",
       " Seq('PSLRNKVYVEILHCRKRNLSNF'),\n",
       " Seq('RHQICICLCLEQEENQQLCC'),\n",
       " Seq('SQTNRSRANWKDC'),\n",
       " Seq('LLLSFTIIWFPTH'),\n",
       " Seq('WCWLPTIQSSSTFF'),\n",
       " Seq('TSTCTSNCLWT'),\n",
       " Seq('KQMCQFQLQWFNRHRCSY'),\n",
       " Seq('QKVSAFPTIWQRHC'),\n",
       " Seq('HYTMFFWWCQCYNTRNKYF'),\n",
       " Seq('LHRSPCCYSCRSTYSYLACLFYRF'),\n",
       " Seq('CFSNTCRLFNRG'),\n",
       " Seq('SIHHCLHYVTWCRKFSCLL'),\n",
       " Seq('CYHRNSTSVYDQDISRLYNVHLW'),\n",
       " Seq('MQQSFVAIWQFLYTIKPCFNWNSC'),\n",
       " Seq('TRQKHPRSFCTSQTNLQNTTN'),\n",
       " Seq('FFTNITRSIKTKQEVIY'),\n",
       " Seq('RSTFQQSDTCRCWLHQTIW'),\n",
       " Seq('RPYCFATFAHR'),\n",
       " Seq('NDCSIHFCTVSGYNHFWLDLWCRCCITNTICYANGL'),\n",
       " Seq('CYWQNSRLTFFHSKCTWKTSRCGQPKCTSFKHAC'),\n",
       " Seq('LQFWCNFKCFK'),\n",
       " Seq('VDHRQTSKFADICDSTIN'),\n",
       " Seq('NVRVCTWTIKKS'),\n",
       " Seq('FLWKGLSSYVLPSVSTSWCSLLACDLCPCTRKELHNCSCHLS'),\n",
       " Seq('RCLCFKWHTLVCNTKEFL'),\n",
       " Seq('TTNHYYRQHICVW'),\n",
       " Seq('CCNRNCQQHSL'),\n",
       " Seq('ISHRSPRTWKV'),\n",
       " Seq('AVYKMAMVHLARFYSWLDCHSNGDNYALLYDQLL'),\n",
       " Seq('LSQGLLFLWILLQI'),\n",
       " Seq('ASAQRSQITLHINELMDLFMRIFTIGTVTLKQGEIKDATPSDFVRATATIPIQA...VPL'),\n",
       " Seq('AQADEYELMYSFVSEETGTLIVNSVLLFLAFVVFLLVTLAILTALRLCAYCCNI...LLV'),\n",
       " Seq('PWQIPTVLLPLKSLKSSLNNGT'),\n",
       " Seq('VSYSLHGFVFYNLPMPTGIGFCI'),\n",
       " Seq('IGSPVELLSQWLVL'),\n",
       " Seq('CGSATSLLLSDCLRVRVPCGHSIQKLTFFSTCHSMALF'),\n",
       " Seq('SFVDIFVLLDTI'),\n",
       " Seq('DAVTSRTCLKKSLLLHHERFLITNWELRSV'),\n",
       " Seq('QVTQVLLHTVATGLATIN'),\n",
       " Seq('TQTIPVAVTILLCLYSK'),\n",
       " Seq('QQMFHLVDFQVTIAEILLIIMRTFKVSIWNLDYIINLIIKNLSKSLTENKYSQL...EID'),\n",
       " Seq('TNMKIILFLALITLATCELYHYQECVRGTTVLLKEPCSSGTYEGNSPFHPLADN...KTE'),\n",
       " Seq('LCLLSFGSHLNCKIIMKLVTPKRT'),\n",
       " Seq('LHFTKNVVYSHVLNINHM'),\n",
       " Seq('LMTRVLFTSILNGILE'),\n",
       " Seq('LNCAWMRLVLNHPFSTSISVIIQFPVYLLQLIARNLNWVVL'),\n",
       " Seq('WTPKSAKCTPHYVWWTLRFNWQ'),\n",
       " Seq('PEWRTQWGAIKTTSAPRFTQ'),\n",
       " Seq('YCVLVHRSHSTWQGRP'),\n",
       " Seq('PNWLLPKSYQTNSWW'),\n",
       " Seq('NERSQSKMVFLLPRNWARSWTSLWC'),\n",
       " Seq('GSLEYTKRSHWHPQSC'),\n",
       " Seq('QCCNRATTSSRNNIAKRLLRRREQRRQSSLFSFLIT'),\n",
       " Seq('SQQFKKFNSRQQ'),\n",
       " Seq('SIQCNTSFRQTWSRTNPRKFWGPGTNQTRN'),\n",
       " Seq('LQTLAANCTICPQRFSVLRNVAHWHGSHTFGNVVDLHRCHQIG'),\n",
       " Seq('QRSKFQRSSHFAE'),\n",
       " Seq('NSSLTAETEETANCDSSSCCRFG'),\n",
       " Seq('FLQTIATIHEQC'),\n",
       " Seq('LNSGLNSCRPHKADGLYKRFRFSVYDI'),\n",
       " Seq('SHIAIFNQCVTLGRT'),\n",
       " Seq('KSHHIFTEATRSTIECTVNNARESCLYGRALMCKINFSSAIPM'),\n",
       " Seq('LLRRMTKKKKKKKKKK')]"
      ]
     },
     "metadata": {},
     "execution_count": 68
    }
   ],
   "metadata": {}
  },
  {
   "cell_type": "code",
   "execution_count": 69,
   "source": [
    "df = pd.DataFrame({'proteins':large_proteins})"
   ],
   "outputs": [],
   "metadata": {}
  },
  {
   "cell_type": "code",
   "execution_count": 74,
   "source": [
    "df['plen']=df['proteins'].map(len)"
   ],
   "outputs": [],
   "metadata": {}
  },
  {
   "cell_type": "code",
   "execution_count": 75,
   "source": [
    "df"
   ],
   "outputs": [
    {
     "output_type": "execute_result",
     "data": {
      "text/html": [
       "<div>\n",
       "<style scoped>\n",
       "    .dataframe tbody tr th:only-of-type {\n",
       "        vertical-align: middle;\n",
       "    }\n",
       "\n",
       "    .dataframe tbody tr th {\n",
       "        vertical-align: top;\n",
       "    }\n",
       "\n",
       "    .dataframe thead th {\n",
       "        text-align: right;\n",
       "    }\n",
       "</style>\n",
       "<table border=\"1\" class=\"dataframe\">\n",
       "  <thead>\n",
       "    <tr style=\"text-align: right;\">\n",
       "      <th></th>\n",
       "      <th>proteins</th>\n",
       "      <th>plen</th>\n",
       "    </tr>\n",
       "  </thead>\n",
       "  <tbody>\n",
       "    <tr>\n",
       "      <th>0</th>\n",
       "      <td>(Q, T, N, Q, L, S, I, S, C, R, S, V, L)</td>\n",
       "      <td>13</td>\n",
       "    </tr>\n",
       "    <tr>\n",
       "      <th>1</th>\n",
       "      <td>(T, N, F, K, I, C, V, A, V, T, R, L, H, A)</td>\n",
       "      <td>14</td>\n",
       "    </tr>\n",
       "    <tr>\n",
       "      <th>2</th>\n",
       "      <td>(Q, D, T, S, N, S, S, I, F, C, R, L, L, T, V, ...</td>\n",
       "      <td>35</td>\n",
       "    </tr>\n",
       "    <tr>\n",
       "      <th>3</th>\n",
       "      <td>(D, G, E, P, C, P, W, F, Q, R, E, N, T, R, P, ...</td>\n",
       "      <td>46</td>\n",
       "    </tr>\n",
       "    <tr>\n",
       "      <th>4</th>\n",
       "      <td>(T, A, L, C, V, H, Q, T, F, G, C, S, N, C, T, ...</td>\n",
       "      <td>21</td>\n",
       "    </tr>\n",
       "    <tr>\n",
       "      <th>...</th>\n",
       "      <td>...</td>\n",
       "      <td>...</td>\n",
       "    </tr>\n",
       "    <tr>\n",
       "      <th>185</th>\n",
       "      <td>(F, L, Q, T, I, A, T, I, H, E, Q, C)</td>\n",
       "      <td>12</td>\n",
       "    </tr>\n",
       "    <tr>\n",
       "      <th>186</th>\n",
       "      <td>(L, N, S, G, L, N, S, C, R, P, H, K, A, D, G, ...</td>\n",
       "      <td>27</td>\n",
       "    </tr>\n",
       "    <tr>\n",
       "      <th>187</th>\n",
       "      <td>(S, H, I, A, I, F, N, Q, C, V, T, L, G, R, T)</td>\n",
       "      <td>15</td>\n",
       "    </tr>\n",
       "    <tr>\n",
       "      <th>188</th>\n",
       "      <td>(K, S, H, H, I, F, T, E, A, T, R, S, T, I, E, ...</td>\n",
       "      <td>43</td>\n",
       "    </tr>\n",
       "    <tr>\n",
       "      <th>189</th>\n",
       "      <td>(L, L, R, R, M, T, K, K, K, K, K, K, K, K, K, K)</td>\n",
       "      <td>16</td>\n",
       "    </tr>\n",
       "  </tbody>\n",
       "</table>\n",
       "<p>190 rows × 2 columns</p>\n",
       "</div>"
      ],
      "text/plain": [
       "                                              proteins  plen\n",
       "0              (Q, T, N, Q, L, S, I, S, C, R, S, V, L)    13\n",
       "1           (T, N, F, K, I, C, V, A, V, T, R, L, H, A)    14\n",
       "2    (Q, D, T, S, N, S, S, I, F, C, R, L, L, T, V, ...    35\n",
       "3    (D, G, E, P, C, P, W, F, Q, R, E, N, T, R, P, ...    46\n",
       "4    (T, A, L, C, V, H, Q, T, F, G, C, S, N, C, T, ...    21\n",
       "..                                                 ...   ...\n",
       "185               (F, L, Q, T, I, A, T, I, H, E, Q, C)    12\n",
       "186  (L, N, S, G, L, N, S, C, R, P, H, K, A, D, G, ...    27\n",
       "187      (S, H, I, A, I, F, N, Q, C, V, T, L, G, R, T)    15\n",
       "188  (K, S, H, H, I, F, T, E, A, T, R, S, T, I, E, ...    43\n",
       "189   (L, L, R, R, M, T, K, K, K, K, K, K, K, K, K, K)    16\n",
       "\n",
       "[190 rows x 2 columns]"
      ]
     },
     "metadata": {},
     "execution_count": 75
    }
   ],
   "metadata": {}
  },
  {
   "cell_type": "code",
   "execution_count": 78,
   "source": [
    "df = df.sort_values(by='plen', ascending=False)"
   ],
   "outputs": [],
   "metadata": {}
  },
  {
   "cell_type": "code",
   "execution_count": 79,
   "source": [
    "df"
   ],
   "outputs": [
    {
     "output_type": "execute_result",
     "data": {
      "text/html": [
       "<div>\n",
       "<style scoped>\n",
       "    .dataframe tbody tr th:only-of-type {\n",
       "        vertical-align: middle;\n",
       "    }\n",
       "\n",
       "    .dataframe tbody tr th {\n",
       "        vertical-align: top;\n",
       "    }\n",
       "\n",
       "    .dataframe thead th {\n",
       "        text-align: right;\n",
       "    }\n",
       "</style>\n",
       "<table border=\"1\" class=\"dataframe\">\n",
       "  <thead>\n",
       "    <tr style=\"text-align: right;\">\n",
       "      <th></th>\n",
       "      <th>proteins</th>\n",
       "      <th>plen</th>\n",
       "    </tr>\n",
       "  </thead>\n",
       "  <tbody>\n",
       "    <tr>\n",
       "      <th>118</th>\n",
       "      <td>(C, T, I, V, F, K, R, V, C, G, V, S, A, A, R, ...</td>\n",
       "      <td>2701</td>\n",
       "    </tr>\n",
       "    <tr>\n",
       "      <th>157</th>\n",
       "      <td>(A, S, A, Q, R, S, Q, I, T, L, H, I, N, E, L, ...</td>\n",
       "      <td>290</td>\n",
       "    </tr>\n",
       "    <tr>\n",
       "      <th>168</th>\n",
       "      <td>(T, N, M, K, I, I, L, F, L, A, L, I, T, L, A, ...</td>\n",
       "      <td>123</td>\n",
       "    </tr>\n",
       "    <tr>\n",
       "      <th>158</th>\n",
       "      <td>(A, Q, A, D, E, Y, E, L, M, Y, S, F, V, S, E, ...</td>\n",
       "      <td>83</td>\n",
       "    </tr>\n",
       "    <tr>\n",
       "      <th>167</th>\n",
       "      <td>(Q, Q, M, F, H, L, V, D, F, Q, V, T, I, A, E, ...</td>\n",
       "      <td>63</td>\n",
       "    </tr>\n",
       "    <tr>\n",
       "      <th>...</th>\n",
       "      <td>...</td>\n",
       "      <td>...</td>\n",
       "    </tr>\n",
       "    <tr>\n",
       "      <th>38</th>\n",
       "      <td>(K, C, L, L, H, S, T, I, Y, Y, L)</td>\n",
       "      <td>11</td>\n",
       "    </tr>\n",
       "    <tr>\n",
       "      <th>132</th>\n",
       "      <td>(T, S, T, C, T, S, N, C, L, W, T)</td>\n",
       "      <td>11</td>\n",
       "    </tr>\n",
       "    <tr>\n",
       "      <th>34</th>\n",
       "      <td>(W, Q, S, S, S, R, F, C, H, S, C)</td>\n",
       "      <td>11</td>\n",
       "    </tr>\n",
       "    <tr>\n",
       "      <th>33</th>\n",
       "      <td>(Q, T, C, F, K, L, F, G, N, E, E)</td>\n",
       "      <td>11</td>\n",
       "    </tr>\n",
       "    <tr>\n",
       "      <th>147</th>\n",
       "      <td>(L, Q, F, W, C, N, F, K, C, F, K)</td>\n",
       "      <td>11</td>\n",
       "    </tr>\n",
       "  </tbody>\n",
       "</table>\n",
       "<p>190 rows × 2 columns</p>\n",
       "</div>"
      ],
      "text/plain": [
       "                                              proteins  plen\n",
       "118  (C, T, I, V, F, K, R, V, C, G, V, S, A, A, R, ...  2701\n",
       "157  (A, S, A, Q, R, S, Q, I, T, L, H, I, N, E, L, ...   290\n",
       "168  (T, N, M, K, I, I, L, F, L, A, L, I, T, L, A, ...   123\n",
       "158  (A, Q, A, D, E, Y, E, L, M, Y, S, F, V, S, E, ...    83\n",
       "167  (Q, Q, M, F, H, L, V, D, F, Q, V, T, I, A, E, ...    63\n",
       "..                                                 ...   ...\n",
       "38                   (K, C, L, L, H, S, T, I, Y, Y, L)    11\n",
       "132                  (T, S, T, C, T, S, N, C, L, W, T)    11\n",
       "34                   (W, Q, S, S, S, R, F, C, H, S, C)    11\n",
       "33                   (Q, T, C, F, K, L, F, G, N, E, E)    11\n",
       "147                  (L, Q, F, W, C, N, F, K, C, F, K)    11\n",
       "\n",
       "[190 rows x 2 columns]"
      ]
     },
     "metadata": {},
     "execution_count": 79
    }
   ],
   "metadata": {}
  },
  {
   "cell_type": "code",
   "execution_count": 84,
   "source": [
    "sp=df.nlargest(1, 'plen').iloc[0,0]"
   ],
   "outputs": [],
   "metadata": {}
  },
  {
   "cell_type": "code",
   "execution_count": 85,
   "source": [
    "f'>large protein\\n{sp}'"
   ],
   "outputs": [
    {
     "output_type": "execute_result",
     "data": {
      "text/plain": [
       "'>large protein\\nCTIVFKRVCGVSAARLTPCGTGTSTDVVYRAFDIYNDKVAGFAKFLKTNCCRFQEKDEDDNLIDSYFVVKRHTFSNYQHEETIYNLLKDCPAVAKHDFFKFRIDGDMVPHISRQRLTKYTMADLVYALRHFDEGNCDTLKEILVTYNCCDDDYFNKKDWYDFVENPDILRVYANLGERVRQALLKTVQFCDAMRNAGIVGVLTLDNQDLNGNWYDFGDFIQTTPGSGVPVVDSYYSLLMPILTLTRALTAESHVDTDLTKPYIKWDLLKYDFTEERLKLFDRYFKYWDQTYHPNCVNCLDDRCILHCANFNVLFSTVFPPTSFGPLVRKIFVDGVPFVVSTGYHFRELGVVHNQDVNLHSSRLSFKELLVYAADPAMHAASGNLLLDKRTTCFSVAALTNNVAFQTVKPGNFNKDFYDFAVSKGFFKEGSSVELKHFFFAQDGNAAISDYDYYRYNLPTMCDIRQLLFVVEVVDKYFDCYDGGCINANQVIVNNLDKSAGFPFNKWGKARLYYDSMSYEDQDALFAYTKRNVIPTITQMNLKYAISAKNRARTVAGVSICSTMTNRQFHQKLLKSIAATRGATVVIGTSKFYGGWHNMLKTVYSDVENPHLMGWDYPKCDRAMPNMLRIMASLVLARKHTTCCSLSHRFYRLANECAQVLSEMVMCGGSLYVKPGGTSSGDATTAYANSVFNICQAVTANVNALLSTDGNKIADKYVRNLQHRLYECLYRNRDVDTDFVNEFYAYLRKHFSMMILSDDAVVCFNSTYASQGLVASIKNFKSVLYYQNNVFMSEAKCWTETDLTKGPHEFCSQHTMLVKQGDDYVYLPYPDPSRILGAGCFVDDIVKTDGTLMIERFVSLAIDAYPLTKHPNQEYADVFHLYLQYIRKLHDELTGHMLDMYSVMLTNDNTSRYWEPEFYEAMYTPHTVLQAVGACVLCNSQTSLRCGACIRRPFLCCKCCYDHVISTSHKLVLSVNPYVCNAPGCDVTDVTQLYLGGMSYYCKSHKPPISFPLCANGQVFGLYKNTCVGSDNVTDFNAIATCDWTNAGDYILANTCTERLKLFAAETLKATEETFKLSYGIATVREVLSDRELHLSWEVGKPRPPLNRNYVFTGYRVTKNSKVQIGEYTFEKGDYGDAVVYRGTTTYKLNVGDYFVLTSHTVMPLSAPTLVPQEHYVRITGLYPTLNISDEFSSNVANYQKVGMQKYSTLQGPPGTGKSHFAIGLALYYPSARIVYTACSHAAVDALCEKALKYLPIDKCSRIIPARARVECFDKFKVNSTLEQYVFCTVNALPETTADIVVFDEISMATNYDLSVVNARLRAKHYVYIGDPAQLPAPRTLLTKGTLEPEYFNSVCRLMKTIGPDMFLGTCRRCPAEIVDTVSALVYDNKLKAHKDKSAQCFKMFYKGVITHDVSSAINRPQIGVVREFLTRNPAWRKAVFISPYNSQNAVASKILGLPTQTVDSSQGSEYDYVIFTQTTETAHSCNVNRFNVAITRAKVGILCIMSDRDLYDKLQFTSLEIPRRNVATLQAENVTGLFKDCSKVITGLHPTQAPTHLSVDTKFKTEGLCVDIPGIPKDMTYRRLISMMGFKMNYQVNGYPNMFITREEAIRHVRAWIGFDVEGCHATREAVGTNLPLQLGFSTGVNLVAVPTGYVDTPNNTDFSRVSAKPPPGDQFKHLIPLMYKGLPWNVVRIKIVQMLSDTLKNLSDRVVFVLWAHGFELTSMKYFVKIGPERTCCLCDRRATCFSTASDTYACWHHSIGFDYVYNPFMIDVQQWGFTGNLQSNHDLYCQVHGNAHVASCDAIMTRCLAVHECFVKRVDWTIEYPIIGDELKINAACRKVQHMVVKAALLADKFPVLHDIGNPKAIKCVPQADVEWKFYDAQPCSDKAYKIEELFYSYATHSDKFTDGVCLFWNCNVDRYPANSIVCRFDTRVLSNLNLPGCDGGSLYVNKHAFHTPAFDKSAFVNLKQLPFFYYSDSPCESHGKQVVSDIDYVPLKSATCITRCNLGGAVCRHHANEYRLYLDAYNMMISAGFSLWVYKQFDTYNLWNTFTRLQSLENVAFNVVNKGHFDGQQGEVPVSIINNTVYTKVDGVDVELFENKTTLPVNVAFELWAKRNIKPVPEVKILNNLGVDIAANTVIWDYKRDAPAHISTIGVCSMTDIAKKPTETICAPLTVFFDGRVDGQVDLFRNARNGVLITEGSVKGLQPSVGPKQASLNGVTLIGEAVKTQFNYYKKVDGVVQQLPETYFTQSRNLQEFKPRSQMEIDFLELAMDEFIERYKLEGYAFEHIVYGDFSHSQLGGLHLLIGLAKRFKESPFELEDFIPMDSTVKNYFITDAQTGSSKCVCSVIDLLLDDFVEIIKSQDLSVVSKVVKVTIDYTEISFMLWCKDGHVETFYPKLQSSQAWQPGVAMPNLYKMQRMLLEKCDLQNYGDSATLPKGIMMNVAKYTQLCQYLNTLTLAVPYNMRVIHFGAGSDKGVAPGTAVLRQWLPTGTLLVDSDLNDFVSDADSTLIGDCATVHTANKWDLIISDMYDPKTKNVTKENDSKEGFFTYICGFIQQKLALGGSVAIKITEHSWNADLYKLMGHFAWWTAFVTNVNASSSEAFLIGCNYLGKPREQIDGYVMHANYIFWRNTNPIQLSSYSLFDMSKFPLKLRGTAVMSLKEGQINDMILSLLSKGRLIIRENNRVVISSDVLVNN'"
      ]
     },
     "metadata": {},
     "execution_count": 85
    }
   ],
   "metadata": {}
  },
  {
   "cell_type": "code",
   "execution_count": 86,
   "source": [
    "with open('protein.fasta', 'w') as f:\n",
    "    f.write(f'>large protein\\n{sp}')"
   ],
   "outputs": [],
   "metadata": {}
  },
  {
   "cell_type": "markdown",
   "source": [
    "# Basic Local Sequence Alignment NCBI-BLAST"
   ],
   "metadata": {}
  },
  {
   "cell_type": "code",
   "execution_count": 89,
   "source": [
    "read = SeqIO.read('protein.fasta', 'fasta')\n",
    "read.seq"
   ],
   "outputs": [
    {
     "output_type": "execute_result",
     "data": {
      "text/plain": [
       "Seq('CTIVFKRVCGVSAARLTPCGTGTSTDVVYRAFDIYNDKVAGFAKFLKTNCCRFQ...VNN')"
      ]
     },
     "metadata": {},
     "execution_count": 89
    }
   ],
   "metadata": {}
  },
  {
   "cell_type": "code",
   "execution_count": 100,
   "source": [
    "from pprint import pprint"
   ],
   "outputs": [],
   "metadata": {}
  },
  {
   "cell_type": "code",
   "execution_count": 91,
   "source": [
    "%%time\n",
    "result_handle = NCBIWWW.qblast('blastp', 'pdb', read.seq)\n",
    "blast_res = SearchIO.read(result_handle, 'blast-xml')"
   ],
   "outputs": [
    {
     "output_type": "stream",
     "name": "stdout",
     "text": [
      "CPU times: user 83.6 ms, sys: 22.1 ms, total: 106 ms\n",
      "Wall time: 1min 3s\n"
     ]
    }
   ],
   "metadata": {}
  },
  {
   "cell_type": "code",
   "execution_count": 115,
   "source": [
    "pprint([(x.description, x.id) for x in blast_res[0:5]])"
   ],
   "outputs": [
    {
     "output_type": "stream",
     "name": "stdout",
     "text": [
      "[('Chain A, RNA-directed RNA polymerase [Severe acute respiratory syndrome '\n",
      "  'coronavirus 2]',\n",
      "  'pdb|7D4F|A'),\n",
      " ('Structure of replicating SARS-CoV-2 polymerase [Severe acute respiratory '\n",
      "  'syndrome coronavirus 2]',\n",
      "  'pdb|6YYT|A'),\n",
      " ('Chain A, RNA-directed RNA polymerase [Severe acute respiratory syndrome '\n",
      "  'coronavirus 2]',\n",
      "  'pdb|6XEZ|A'),\n",
      " ('Chain A, RNA-directed RNA polymerase [Severe acute respiratory syndrome '\n",
      "  'coronavirus 2]',\n",
      "  'pdb|7BW4|A'),\n",
      " ('Chain A, RNA-directed RNA polymerase [Severe acute respiratory syndrome '\n",
      "  'coronavirus 2]',\n",
      "  'pdb|6XQB|A')]\n"
     ]
    }
   ],
   "metadata": {}
  },
  {
   "cell_type": "markdown",
   "source": [
    "## Fetch PDB file"
   ],
   "metadata": {}
  },
  {
   "cell_type": "code",
   "execution_count": 116,
   "source": [
    "s = blast_res[1]\n",
    "s"
   ],
   "outputs": [
    {
     "output_type": "execute_result",
     "data": {
      "text/plain": [
       "Hit(id='pdb|6YYT|A', query_id='unnamed', 1 hsps)"
      ]
     },
     "metadata": {},
     "execution_count": 116
    }
   ],
   "metadata": {}
  },
  {
   "cell_type": "code",
   "execution_count": 117,
   "source": [
    "s.description\n"
   ],
   "outputs": [
    {
     "output_type": "execute_result",
     "data": {
      "text/plain": [
       "'Structure of replicating SARS-CoV-2 polymerase [Severe acute respiratory syndrome coronavirus 2]'"
      ]
     },
     "metadata": {},
     "execution_count": 117
    }
   ],
   "metadata": {}
  },
  {
   "cell_type": "code",
   "execution_count": 118,
   "source": [
    "pdb_id = s.id.split('|')[1]"
   ],
   "outputs": [],
   "metadata": {}
  },
  {
   "cell_type": "code",
   "execution_count": 119,
   "source": [
    "pdb_id"
   ],
   "outputs": [
    {
     "output_type": "execute_result",
     "data": {
      "text/plain": [
       "'6YYT'"
      ]
     },
     "metadata": {},
     "execution_count": 119
    }
   ],
   "metadata": {}
  },
  {
   "cell_type": "code",
   "execution_count": 120,
   "source": [
    "pdb_loc = f'https://files.rcsb.org/download/{pdb_id}.pdb'"
   ],
   "outputs": [],
   "metadata": {}
  },
  {
   "cell_type": "code",
   "execution_count": 121,
   "source": [
    "pdb_loc"
   ],
   "outputs": [
    {
     "output_type": "execute_result",
     "data": {
      "text/plain": [
       "'https://files.rcsb.org/download/6YYT.pdb'"
      ]
     },
     "metadata": {},
     "execution_count": 121
    }
   ],
   "metadata": {}
  },
  {
   "cell_type": "code",
   "execution_count": 125,
   "source": [
    "pdb_fname=f'{pdb_id}_sars.pdb'\n",
    "urllib.request.urlretrieve(pdb_loc, pdb_fname)"
   ],
   "outputs": [
    {
     "output_type": "execute_result",
     "data": {
      "text/plain": [
       "('6YYT_sars.pdb', <http.client.HTTPMessage at 0x12b742760>)"
      ]
     },
     "metadata": {},
     "execution_count": 125
    }
   ],
   "metadata": {}
  },
  {
   "cell_type": "code",
   "execution_count": 127,
   "source": [
    "pdb_parser = PDBParser()\n",
    "structure = pdb_parser.get_structure(pdb_id, pdb_fname)"
   ],
   "outputs": [
    {
     "output_type": "stream",
     "name": "stderr",
     "text": [
      "/Users/ismail/RestInGit/sars-cov-2/venv/lib/python3.9/site-packages/Bio/PDB/StructureBuilder.py:89: PDBConstructionWarning: WARNING: Chain A is discontinuous at line 12059.\n",
      "  warnings.warn(\n"
     ]
    }
   ],
   "metadata": {}
  },
  {
   "cell_type": "code",
   "execution_count": 128,
   "source": [
    "structure"
   ],
   "outputs": [
    {
     "output_type": "execute_result",
     "data": {
      "text/plain": [
       "<Structure id=6YYT>"
      ]
     },
     "metadata": {},
     "execution_count": 128
    }
   ],
   "metadata": {}
  },
  {
   "cell_type": "code",
   "execution_count": 129,
   "source": [
    "# Number of chains\n",
    "for chain in structure[0]:\n",
    "    print(chain)"
   ],
   "outputs": [
    {
     "output_type": "stream",
     "name": "stdout",
     "text": [
      "<Chain id=A>\n",
      "<Chain id=B>\n",
      "<Chain id=C>\n",
      "<Chain id=D>\n",
      "<Chain id=P>\n",
      "<Chain id=Q>\n",
      "<Chain id=T>\n",
      "<Chain id=U>\n"
     ]
    }
   ],
   "metadata": {}
  },
  {
   "cell_type": "markdown",
   "source": [
    "# Visualize SARS-Cov2"
   ],
   "metadata": {}
  },
  {
   "cell_type": "code",
   "execution_count": 130,
   "source": [
    "nv.demo()"
   ],
   "outputs": [
    {
     "output_type": "display_data",
     "data": {
      "application/vnd.jupyter.widget-view+json": {
       "model_id": "c7ad71235e9042109537b18ca032aad6",
       "version_major": 2,
       "version_minor": 0
      },
      "text/plain": [
       "NGLWidget()"
      ]
     },
     "metadata": {}
    }
   ],
   "metadata": {}
  },
  {
   "cell_type": "code",
   "execution_count": 131,
   "source": [
    "view = nv.show_biopython(structure)"
   ],
   "outputs": [],
   "metadata": {}
  },
  {
   "cell_type": "code",
   "execution_count": 132,
   "source": [
    "view"
   ],
   "outputs": [
    {
     "output_type": "display_data",
     "data": {
      "application/vnd.jupyter.widget-view+json": {
       "model_id": "bb20f988c50f478aaf403a7781ccf28c",
       "version_major": 2,
       "version_minor": 0
      },
      "text/plain": [
       "NGLWidget()"
      ]
     },
     "metadata": {}
    }
   ],
   "metadata": {}
  },
  {
   "cell_type": "code",
   "execution_count": 135,
   "source": [
    "nv.show_biopython(structure, gui=True)"
   ],
   "outputs": [
    {
     "output_type": "display_data",
     "data": {
      "application/vnd.jupyter.widget-view+json": {
       "model_id": "f4dd947e0e1d4702b511fc5c34e8a09f",
       "version_major": 2,
       "version_minor": 0
      },
      "text/plain": [
       "NGLWidget()"
      ]
     },
     "metadata": {}
    },
    {
     "output_type": "display_data",
     "data": {
      "application/vnd.jupyter.widget-view+json": {
       "model_id": "f0388d3146bc49c7a9d1c08ebdeb0472",
       "version_major": 2,
       "version_minor": 0
      },
      "text/plain": [
       "Tab(children=(Box(children=(Box(children=(Box(children=(Label(value='step'), IntSlider(value=1, min=-100)), la…"
      ]
     },
     "metadata": {}
    }
   ],
   "metadata": {}
  },
  {
   "cell_type": "code",
   "execution_count": 137,
   "source": [
    "len(seq[0:10])"
   ],
   "outputs": [
    {
     "output_type": "execute_result",
     "data": {
      "text/plain": [
       "10"
      ]
     },
     "metadata": {},
     "execution_count": 137
    }
   ],
   "metadata": {}
  },
  {
   "cell_type": "code",
   "execution_count": null,
   "source": [],
   "outputs": [],
   "metadata": {}
  }
 ],
 "metadata": {
  "kernelspec": {
   "name": "python3",
   "display_name": "Python 3.9.9 64-bit ('venv': venv)"
  },
  "language_info": {
   "codemirror_mode": {
    "name": "ipython",
    "version": 3
   },
   "file_extension": ".py",
   "mimetype": "text/x-python",
   "name": "python",
   "nbconvert_exporter": "python",
   "pygments_lexer": "ipython3",
   "version": "3.9.9"
  },
  "interpreter": {
   "hash": "ff9afc106f272f94d7facef4bb9184fffb64f040ab0d8b1a1153ba435e93b492"
  }
 },
 "nbformat": 4,
 "nbformat_minor": 5
}